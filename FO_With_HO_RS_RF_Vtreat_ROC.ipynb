{
  "nbformat": 4,
  "nbformat_minor": 0,
  "metadata": {
    "colab": {
      "name": "FO_With HO_ RF_RS_ROC.ipynb",
      "provenance": [],
      "collapsed_sections": [],
      "include_colab_link": true
    },
    "kernelspec": {
      "name": "python3",
      "display_name": "Python 3"
    }
  },
  "cells": [
    {
      "cell_type": "markdown",
      "metadata": {
        "id": "view-in-github",
        "colab_type": "text"
      },
      "source": [
        "<a href=\"https://colab.research.google.com/github/codebluecruz/Hyper-Parameter-Optimization-of-Decision-Tree-/blob/master/FO_With_HO_RS_RF_Vtreat_ROC.ipynb\" target=\"_parent\"><img src=\"https://colab.research.google.com/assets/colab-badge.svg\" alt=\"Open In Colab\"/></a>"
      ]
    },
    {
      "cell_type": "code",
      "metadata": {
        "id": "IwvV9oQqYbD-",
        "colab_type": "code",
        "colab": {
          "base_uri": "https://localhost:8080/",
          "height": 72
        },
        "outputId": "6f607818-b3d9-46ab-b6c6-f3f7a0e7aee9"
      },
      "source": [
        "import numpy as np\n",
        "import pandas as pd\n",
        "import matplotlib.pyplot as plt\n",
        "from matplotlib import style\n",
        "import seaborn as sns\n",
        "sns.set_style('whitegrid')\n",
        "import tensorflow as tf\n",
        "from sklearn.model_selection import train_test_split, cross_val_predict\n",
        "from sklearn.svm import SVC\n",
        "from sklearn.ensemble import RandomForestClassifier\n",
        "from sklearn.linear_model import SGDClassifier\n",
        "from sklearn.neighbors import KNeighborsClassifier\n",
        "from sklearn.naive_bayes import GaussianNB\n",
        "from sklearn.decomposition import PCA\n",
        "from xgboost import XGBClassifier\n",
        "from sklearn.preprocessing import LabelEncoder, MinMaxScaler\n",
        "from sklearn.metrics import confusion_matrix, precision_score, recall_score, f1_score\n",
        "import time\n",
        "import warnings\n",
        "warnings.filterwarnings(\"ignore\", category=DeprecationWarning)\n",
        "%matplotlib inline\n",
        "\n",
        "SMALL_SIZE = 10\n",
        "MEDIUM_SIZE = 12\n",
        "\n",
        "plt.rc('font', size=SMALL_SIZE)\n",
        "plt.rc('axes', titlesize=MEDIUM_SIZE)\n",
        "plt.rc('axes', labelsize=MEDIUM_SIZE)\n",
        "plt.rcParams['figure.dpi']=150"
      ],
      "execution_count": 1,
      "outputs": [
        {
          "output_type": "stream",
          "text": [
            "/usr/local/lib/python3.6/dist-packages/statsmodels/tools/_testing.py:19: FutureWarning: pandas.util.testing is deprecated. Use the functions in the public API at pandas.testing instead.\n",
            "  import pandas.util.testing as tm\n"
          ],
          "name": "stderr"
        }
      ]
    },
    {
      "cell_type": "code",
      "metadata": {
        "id": "ZYo8JrswYgyP",
        "colab_type": "code",
        "colab": {}
      },
      "source": [
        "import numpy as np # linear algebra\n",
        "import pandas as pd # data processing, CSV file I/O (e.g. pd.read_csv)\n",
        "# Input data files are available in the read-only \"../input/\" directory\n",
        "# For example, running this (by clicking run or pressing Shift+Enter) will list all files under the input directory\n",
        "import os\n",
        "for dirname, _, filenames in os.walk('/kaggle/input'):\n",
        "  for filename in filenames:\n",
        "    print(os.path.join(dirname, filename))"
      ],
      "execution_count": 2,
      "outputs": []
    },
    {
      "cell_type": "code",
      "metadata": {
        "id": "UBqXoYARZNi0",
        "colab_type": "code",
        "colab": {}
      },
      "source": [
        "sdss_df = pd.read_csv('Romcom.csv', skiprows=0)"
      ],
      "execution_count": 3,
      "outputs": []
    },
    {
      "cell_type": "code",
      "metadata": {
        "id": "s3r1VcexZh3L",
        "colab_type": "code",
        "colab": {
          "base_uri": "https://localhost:8080/",
          "height": 534
        },
        "outputId": "70ca5b96-6157-4911-d05a-2f354464c2ac"
      },
      "source": [
        "sdss_df.head()"
      ],
      "execution_count": 4,
      "outputs": [
        {
          "output_type": "execute_result",
          "data": {
            "text/html": [
              "<div>\n",
              "<style scoped>\n",
              "    .dataframe tbody tr th:only-of-type {\n",
              "        vertical-align: middle;\n",
              "    }\n",
              "\n",
              "    .dataframe tbody tr th {\n",
              "        vertical-align: top;\n",
              "    }\n",
              "\n",
              "    .dataframe thead th {\n",
              "        text-align: right;\n",
              "    }\n",
              "</style>\n",
              "<table border=\"1\" class=\"dataframe\">\n",
              "  <thead>\n",
              "    <tr style=\"text-align: right;\">\n",
              "      <th></th>\n",
              "      <th>UniqueId</th>\n",
              "      <th>Age</th>\n",
              "      <th>Condition</th>\n",
              "      <th>Date</th>\n",
              "      <th>Drug</th>\n",
              "      <th>DrugId</th>\n",
              "      <th>EaseofUse</th>\n",
              "      <th>Effectiveness</th>\n",
              "      <th>Reviews</th>\n",
              "      <th>Satisfaction</th>\n",
              "      <th>Sex</th>\n",
              "      <th>Sides</th>\n",
              "      <th>UsefulCount</th>\n",
              "      <th>Sentiment_Rating</th>\n",
              "    </tr>\n",
              "  </thead>\n",
              "  <tbody>\n",
              "    <tr>\n",
              "      <th>0</th>\n",
              "      <td>1</td>\n",
              "      <td>75 or over</td>\n",
              "      <td>Incomplete or Infrequent Bowel Movements</td>\n",
              "      <td>11/23/2009</td>\n",
              "      <td>miralax 17 gram oral powder packet</td>\n",
              "      <td>17116</td>\n",
              "      <td>5</td>\n",
              "      <td>3</td>\n",
              "      <td>I have success taking this drug, but have had ...</td>\n",
              "      <td>4</td>\n",
              "      <td>Female</td>\n",
              "      <td>Nausea , abdominal cramping, or gas may occur.</td>\n",
              "      <td>13</td>\n",
              "      <td>4</td>\n",
              "    </tr>\n",
              "    <tr>\n",
              "      <th>1</th>\n",
              "      <td>2</td>\n",
              "      <td>55-64</td>\n",
              "      <td>Rheumatoid Arthritis</td>\n",
              "      <td>11-01-2010</td>\n",
              "      <td>meloxicam</td>\n",
              "      <td>911</td>\n",
              "      <td>4</td>\n",
              "      <td>4</td>\n",
              "      <td>unfortunately this drug causes me migrane like...</td>\n",
              "      <td>2</td>\n",
              "      <td>Female</td>\n",
              "      <td>Stomach  upset,  nausea ,  dizziness , or  dia...</td>\n",
              "      <td>3</td>\n",
              "      <td>1</td>\n",
              "    </tr>\n",
              "    <tr>\n",
              "      <th>2</th>\n",
              "      <td>3</td>\n",
              "      <td>65-74</td>\n",
              "      <td>Sensation of Spinning or Whirling</td>\n",
              "      <td>3/19/2008</td>\n",
              "      <td>meclizine hcl</td>\n",
              "      <td>4520</td>\n",
              "      <td>4</td>\n",
              "      <td>4</td>\n",
              "      <td>diagnosed with vertigo, this medication taken ...</td>\n",
              "      <td>4</td>\n",
              "      <td>Male</td>\n",
              "      <td>Drowsiness,  dry mouth , and tiredness may occur.</td>\n",
              "      <td>10</td>\n",
              "      <td>4</td>\n",
              "    </tr>\n",
              "    <tr>\n",
              "      <th>3</th>\n",
              "      <td>4</td>\n",
              "      <td>25-34</td>\n",
              "      <td>Depression</td>\n",
              "      <td>03-02-2011</td>\n",
              "      <td>mirtazapine tablet</td>\n",
              "      <td>13706</td>\n",
              "      <td>3</td>\n",
              "      <td>1</td>\n",
              "      <td>Placed on this medicine after being taken off ...</td>\n",
              "      <td>1</td>\n",
              "      <td>Female</td>\n",
              "      <td>Dizziness , drowsiness,  lightheadedness , inc...</td>\n",
              "      <td>20</td>\n",
              "      <td>1</td>\n",
              "    </tr>\n",
              "    <tr>\n",
              "      <th>4</th>\n",
              "      <td>5</td>\n",
              "      <td>19-24</td>\n",
              "      <td>Depression</td>\n",
              "      <td>04-01-2011</td>\n",
              "      <td>mirtazapine</td>\n",
              "      <td>13706</td>\n",
              "      <td>3</td>\n",
              "      <td>1</td>\n",
              "      <td>i have only been on this drug for one week. I ...</td>\n",
              "      <td>1</td>\n",
              "      <td>Female</td>\n",
              "      <td>Dizziness , drowsiness,  lightheadedness , inc...</td>\n",
              "      <td>28</td>\n",
              "      <td>1</td>\n",
              "    </tr>\n",
              "  </tbody>\n",
              "</table>\n",
              "</div>"
            ],
            "text/plain": [
              "   UniqueId         Age  ... UsefulCount Sentiment_Rating\n",
              "0         1  75 or over  ...          13                4\n",
              "1         2       55-64  ...           3                1\n",
              "2         3       65-74  ...          10                4\n",
              "3         4       25-34  ...          20                1\n",
              "4         5       19-24  ...          28                1\n",
              "\n",
              "[5 rows x 14 columns]"
            ]
          },
          "metadata": {
            "tags": []
          },
          "execution_count": 4
        }
      ]
    },
    {
      "cell_type": "code",
      "metadata": {
        "id": "LlUJ-oltZr7r",
        "colab_type": "code",
        "colab": {
          "base_uri": "https://localhost:8080/",
          "height": 390
        },
        "outputId": "f6233cda-710a-44c9-bde5-a411a3786f82"
      },
      "source": [
        "sdss_df.info()"
      ],
      "execution_count": 5,
      "outputs": [
        {
          "output_type": "stream",
          "text": [
            "<class 'pandas.core.frame.DataFrame'>\n",
            "RangeIndex: 29998 entries, 0 to 29997\n",
            "Data columns (total 14 columns):\n",
            " #   Column            Non-Null Count  Dtype \n",
            "---  ------            --------------  ----- \n",
            " 0   UniqueId          29998 non-null  int64 \n",
            " 1   Age               29998 non-null  object\n",
            " 2   Condition         29998 non-null  object\n",
            " 3   Date              29998 non-null  object\n",
            " 4   Drug              29998 non-null  object\n",
            " 5   DrugId            29998 non-null  int64 \n",
            " 6   EaseofUse         29998 non-null  int64 \n",
            " 7   Effectiveness     29998 non-null  int64 \n",
            " 8   Reviews           29998 non-null  object\n",
            " 9   Satisfaction      29998 non-null  int64 \n",
            " 10  Sex               29998 non-null  object\n",
            " 11  Sides             29998 non-null  object\n",
            " 12  UsefulCount       29998 non-null  int64 \n",
            " 13  Sentiment_Rating  29998 non-null  int64 \n",
            "dtypes: int64(7), object(7)\n",
            "memory usage: 3.2+ MB\n"
          ],
          "name": "stdout"
        }
      ]
    },
    {
      "cell_type": "code",
      "metadata": {
        "id": "dfVO3ueMZ0Jz",
        "colab_type": "code",
        "colab": {
          "base_uri": "https://localhost:8080/",
          "height": 287
        },
        "outputId": "0f31aae4-52bd-476e-9866-46fd87d814c3"
      },
      "source": [
        "sdss_df.describe()"
      ],
      "execution_count": 6,
      "outputs": [
        {
          "output_type": "execute_result",
          "data": {
            "text/html": [
              "<div>\n",
              "<style scoped>\n",
              "    .dataframe tbody tr th:only-of-type {\n",
              "        vertical-align: middle;\n",
              "    }\n",
              "\n",
              "    .dataframe tbody tr th {\n",
              "        vertical-align: top;\n",
              "    }\n",
              "\n",
              "    .dataframe thead th {\n",
              "        text-align: right;\n",
              "    }\n",
              "</style>\n",
              "<table border=\"1\" class=\"dataframe\">\n",
              "  <thead>\n",
              "    <tr style=\"text-align: right;\">\n",
              "      <th></th>\n",
              "      <th>UniqueId</th>\n",
              "      <th>DrugId</th>\n",
              "      <th>EaseofUse</th>\n",
              "      <th>Effectiveness</th>\n",
              "      <th>Satisfaction</th>\n",
              "      <th>UsefulCount</th>\n",
              "      <th>Sentiment_Rating</th>\n",
              "    </tr>\n",
              "  </thead>\n",
              "  <tbody>\n",
              "    <tr>\n",
              "      <th>count</th>\n",
              "      <td>29998.000000</td>\n",
              "      <td>29998.000000</td>\n",
              "      <td>29998.000000</td>\n",
              "      <td>29998.000000</td>\n",
              "      <td>29998.000000</td>\n",
              "      <td>29998.000000</td>\n",
              "      <td>29998.000000</td>\n",
              "    </tr>\n",
              "    <tr>\n",
              "      <th>mean</th>\n",
              "      <td>14999.500000</td>\n",
              "      <td>30174.666444</td>\n",
              "      <td>3.987366</td>\n",
              "      <td>3.665778</td>\n",
              "      <td>3.152577</td>\n",
              "      <td>6.708747</td>\n",
              "      <td>3.164944</td>\n",
              "    </tr>\n",
              "    <tr>\n",
              "      <th>std</th>\n",
              "      <td>8659.821024</td>\n",
              "      <td>49354.867556</td>\n",
              "      <td>1.364891</td>\n",
              "      <td>1.438950</td>\n",
              "      <td>1.618441</td>\n",
              "      <td>9.935583</td>\n",
              "      <td>1.721518</td>\n",
              "    </tr>\n",
              "    <tr>\n",
              "      <th>min</th>\n",
              "      <td>1.000000</td>\n",
              "      <td>4.000000</td>\n",
              "      <td>1.000000</td>\n",
              "      <td>1.000000</td>\n",
              "      <td>1.000000</td>\n",
              "      <td>0.000000</td>\n",
              "      <td>1.000000</td>\n",
              "    </tr>\n",
              "    <tr>\n",
              "      <th>25%</th>\n",
              "      <td>7500.250000</td>\n",
              "      <td>6007.000000</td>\n",
              "      <td>3.000000</td>\n",
              "      <td>3.000000</td>\n",
              "      <td>1.000000</td>\n",
              "      <td>1.000000</td>\n",
              "      <td>1.000000</td>\n",
              "    </tr>\n",
              "    <tr>\n",
              "      <th>50%</th>\n",
              "      <td>14999.500000</td>\n",
              "      <td>6997.000000</td>\n",
              "      <td>5.000000</td>\n",
              "      <td>4.000000</td>\n",
              "      <td>3.000000</td>\n",
              "      <td>3.000000</td>\n",
              "      <td>3.000000</td>\n",
              "    </tr>\n",
              "    <tr>\n",
              "      <th>75%</th>\n",
              "      <td>22498.750000</td>\n",
              "      <td>19937.000000</td>\n",
              "      <td>5.000000</td>\n",
              "      <td>5.000000</td>\n",
              "      <td>5.000000</td>\n",
              "      <td>9.000000</td>\n",
              "      <td>5.000000</td>\n",
              "    </tr>\n",
              "    <tr>\n",
              "      <th>max</th>\n",
              "      <td>29998.000000</td>\n",
              "      <td>177317.000000</td>\n",
              "      <td>5.000000</td>\n",
              "      <td>5.000000</td>\n",
              "      <td>5.000000</td>\n",
              "      <td>178.000000</td>\n",
              "      <td>5.000000</td>\n",
              "    </tr>\n",
              "  </tbody>\n",
              "</table>\n",
              "</div>"
            ],
            "text/plain": [
              "           UniqueId         DrugId  ...   UsefulCount  Sentiment_Rating\n",
              "count  29998.000000   29998.000000  ...  29998.000000      29998.000000\n",
              "mean   14999.500000   30174.666444  ...      6.708747          3.164944\n",
              "std     8659.821024   49354.867556  ...      9.935583          1.721518\n",
              "min        1.000000       4.000000  ...      0.000000          1.000000\n",
              "25%     7500.250000    6007.000000  ...      1.000000          1.000000\n",
              "50%    14999.500000    6997.000000  ...      3.000000          3.000000\n",
              "75%    22498.750000   19937.000000  ...      9.000000          5.000000\n",
              "max    29998.000000  177317.000000  ...    178.000000          5.000000\n",
              "\n",
              "[8 rows x 7 columns]"
            ]
          },
          "metadata": {
            "tags": []
          },
          "execution_count": 6
        }
      ]
    },
    {
      "cell_type": "code",
      "metadata": {
        "id": "D14SgDAjZ1kp",
        "colab_type": "code",
        "colab": {
          "base_uri": "https://localhost:8080/",
          "height": 123
        },
        "outputId": "7f90e0e4-0229-4a21-a036-3f0448be8bc8"
      },
      "source": [
        "sdss_df['Satisfaction'].value_counts()"
      ],
      "execution_count": 7,
      "outputs": [
        {
          "output_type": "execute_result",
          "data": {
            "text/plain": [
              "5    9587\n",
              "1    8246\n",
              "4    4917\n",
              "3    4226\n",
              "2    3022\n",
              "Name: Satisfaction, dtype: int64"
            ]
          },
          "metadata": {
            "tags": []
          },
          "execution_count": 7
        }
      ]
    },
    {
      "cell_type": "code",
      "metadata": {
        "id": "wwchwKYeZ5V0",
        "colab_type": "code",
        "colab": {
          "base_uri": "https://localhost:8080/",
          "height": 70
        },
        "outputId": "51616e43-070d-48d6-f637-28a5b45254f1"
      },
      "source": [
        "sdss_df.columns.values"
      ],
      "execution_count": 8,
      "outputs": [
        {
          "output_type": "execute_result",
          "data": {
            "text/plain": [
              "array(['UniqueId', 'Age', 'Condition', 'Date', 'Drug', 'DrugId',\n",
              "       'EaseofUse', 'Effectiveness', 'Reviews', 'Satisfaction', 'Sex',\n",
              "       'Sides', 'UsefulCount', 'Sentiment_Rating'], dtype=object)"
            ]
          },
          "metadata": {
            "tags": []
          },
          "execution_count": 8
        }
      ]
    },
    {
      "cell_type": "code",
      "metadata": {
        "id": "sxqdD2cMcu7-",
        "colab_type": "code",
        "colab": {
          "base_uri": "https://localhost:8080/",
          "height": 605
        },
        "outputId": "59b0cf16-d86f-470e-bb5b-3a239b2c52d5"
      },
      "source": [
        "import seaborn as sns\n",
        "# Heatmap of the correlation matrix\n",
        "plt.rcParams['figure.figsize'] = [10,9]\n",
        "sns.set(font_scale = 1.2)\n",
        "corr = sdss_df.select_dtypes(include = 'int64').corr()\n",
        "sns_heat = sns.heatmap(corr, annot = True, vmin=-1, vmax=1, center=0,\n",
        "cmap=sns.diverging_palette(20, 220, n=200), square=True);\n",
        "plt.setp(sns_heat.get_xticklabels(), rotation = 45);"
      ],
      "execution_count": 9,
      "outputs": [
        {
          "output_type": "display_data",
          "data": {
            "image/png": "[encoded data removed]",
            "text/plain": [
              "<Figure size 720x648 with 2 Axes>"
            ]
          },
          "metadata": {
            "tags": []
          }
        }
      ]
    },
    {
      "cell_type": "code",
      "metadata": {
        "id": "Dk6Qer9RdXjE",
        "colab_type": "code",
        "colab": {
          "base_uri": "https://localhost:8080/",
          "height": 534
        },
        "outputId": "3267d681-260d-4f5f-ea31-fc6a6039e594"
      },
      "source": [
        "sdss_df_fe = sdss_df\n",
        "\n",
        "# encode class labels to integers\n",
        "le = LabelEncoder()\n",
        "y_encoded = le.fit_transform(sdss_df_fe['Satisfaction'])\n",
        "sdss_df_fe['Satisfaction'] = y_encoded\n",
        "\n",
        "# Principal Component Analysis\n",
        "pca = PCA(n_components=3)\n",
        "ugriz = pca.fit_transform(sdss_df_fe[['EaseofUse', 'Effectiveness', 'UsefulCount', 'Sentiment_Rating']])\n",
        "\n",
        "# update dataframe \n",
        "sdss_df_fe = pd.concat((sdss_df_fe, pd.DataFrame(ugriz)), axis=1)\n",
        "sdss_df_fe.rename({0: 'PCA_1', 1: 'PCA_2', 2: 'PCA_3'}, axis=1, inplace = True)\n",
        "#sdss_df_fe.drop(['EaseofUse', 'Effectiveness', 'UsefulCount', 'Sentiment_Rating'], axis=1, inplace=True)\n",
        "sdss_df_fe.drop(['PCA_1', 'PCA_2', 'PCA_3'], axis=1, inplace=True)\n",
        "sdss_df_fe.head()"
      ],
      "execution_count": 10,
      "outputs": [
        {
          "output_type": "execute_result",
          "data": {
            "text/html": [
              "<div>\n",
              "<style scoped>\n",
              "    .dataframe tbody tr th:only-of-type {\n",
              "        vertical-align: middle;\n",
              "    }\n",
              "\n",
              "    .dataframe tbody tr th {\n",
              "        vertical-align: top;\n",
              "    }\n",
              "\n",
              "    .dataframe thead th {\n",
              "        text-align: right;\n",
              "    }\n",
              "</style>\n",
              "<table border=\"1\" class=\"dataframe\">\n",
              "  <thead>\n",
              "    <tr style=\"text-align: right;\">\n",
              "      <th></th>\n",
              "      <th>UniqueId</th>\n",
              "      <th>Age</th>\n",
              "      <th>Condition</th>\n",
              "      <th>Date</th>\n",
              "      <th>Drug</th>\n",
              "      <th>DrugId</th>\n",
              "      <th>EaseofUse</th>\n",
              "      <th>Effectiveness</th>\n",
              "      <th>Reviews</th>\n",
              "      <th>Satisfaction</th>\n",
              "      <th>Sex</th>\n",
              "      <th>Sides</th>\n",
              "      <th>UsefulCount</th>\n",
              "      <th>Sentiment_Rating</th>\n",
              "    </tr>\n",
              "  </thead>\n",
              "  <tbody>\n",
              "    <tr>\n",
              "      <th>0</th>\n",
              "      <td>1</td>\n",
              "      <td>75 or over</td>\n",
              "      <td>Incomplete or Infrequent Bowel Movements</td>\n",
              "      <td>11/23/2009</td>\n",
              "      <td>miralax 17 gram oral powder packet</td>\n",
              "      <td>17116</td>\n",
              "      <td>5</td>\n",
              "      <td>3</td>\n",
              "      <td>I have success taking this drug, but have had ...</td>\n",
              "      <td>3</td>\n",
              "      <td>Female</td>\n",
              "      <td>Nausea , abdominal cramping, or gas may occur.</td>\n",
              "      <td>13</td>\n",
              "      <td>4</td>\n",
              "    </tr>\n",
              "    <tr>\n",
              "      <th>1</th>\n",
              "      <td>2</td>\n",
              "      <td>55-64</td>\n",
              "      <td>Rheumatoid Arthritis</td>\n",
              "      <td>11-01-2010</td>\n",
              "      <td>meloxicam</td>\n",
              "      <td>911</td>\n",
              "      <td>4</td>\n",
              "      <td>4</td>\n",
              "      <td>unfortunately this drug causes me migrane like...</td>\n",
              "      <td>1</td>\n",
              "      <td>Female</td>\n",
              "      <td>Stomach  upset,  nausea ,  dizziness , or  dia...</td>\n",
              "      <td>3</td>\n",
              "      <td>1</td>\n",
              "    </tr>\n",
              "    <tr>\n",
              "      <th>2</th>\n",
              "      <td>3</td>\n",
              "      <td>65-74</td>\n",
              "      <td>Sensation of Spinning or Whirling</td>\n",
              "      <td>3/19/2008</td>\n",
              "      <td>meclizine hcl</td>\n",
              "      <td>4520</td>\n",
              "      <td>4</td>\n",
              "      <td>4</td>\n",
              "      <td>diagnosed with vertigo, this medication taken ...</td>\n",
              "      <td>3</td>\n",
              "      <td>Male</td>\n",
              "      <td>Drowsiness,  dry mouth , and tiredness may occur.</td>\n",
              "      <td>10</td>\n",
              "      <td>4</td>\n",
              "    </tr>\n",
              "    <tr>\n",
              "      <th>3</th>\n",
              "      <td>4</td>\n",
              "      <td>25-34</td>\n",
              "      <td>Depression</td>\n",
              "      <td>03-02-2011</td>\n",
              "      <td>mirtazapine tablet</td>\n",
              "      <td>13706</td>\n",
              "      <td>3</td>\n",
              "      <td>1</td>\n",
              "      <td>Placed on this medicine after being taken off ...</td>\n",
              "      <td>0</td>\n",
              "      <td>Female</td>\n",
              "      <td>Dizziness , drowsiness,  lightheadedness , inc...</td>\n",
              "      <td>20</td>\n",
              "      <td>1</td>\n",
              "    </tr>\n",
              "    <tr>\n",
              "      <th>4</th>\n",
              "      <td>5</td>\n",
              "      <td>19-24</td>\n",
              "      <td>Depression</td>\n",
              "      <td>04-01-2011</td>\n",
              "      <td>mirtazapine</td>\n",
              "      <td>13706</td>\n",
              "      <td>3</td>\n",
              "      <td>1</td>\n",
              "      <td>i have only been on this drug for one week. I ...</td>\n",
              "      <td>0</td>\n",
              "      <td>Female</td>\n",
              "      <td>Dizziness , drowsiness,  lightheadedness , inc...</td>\n",
              "      <td>28</td>\n",
              "      <td>1</td>\n",
              "    </tr>\n",
              "  </tbody>\n",
              "</table>\n",
              "</div>"
            ],
            "text/plain": [
              "   UniqueId         Age  ... UsefulCount Sentiment_Rating\n",
              "0         1  75 or over  ...          13                4\n",
              "1         2       55-64  ...           3                1\n",
              "2         3       65-74  ...          10                4\n",
              "3         4       25-34  ...          20                1\n",
              "4         5       19-24  ...          28                1\n",
              "\n",
              "[5 rows x 14 columns]"
            ]
          },
          "metadata": {
            "tags": []
          },
          "execution_count": 10
        }
      ]
    },
    {
      "cell_type": "code",
      "metadata": {
        "id": "QsKp9YY8sU1Z",
        "colab_type": "code",
        "colab": {}
      },
      "source": [
        "sdss_df_fe.drop(['UniqueId', 'Age', 'Date', 'Drug', 'Reviews'], axis=1, inplace=True)"
      ],
      "execution_count": null,
      "outputs": []
    },
    {
      "cell_type": "code",
      "metadata": {
        "id": "v20Oqee_oaLb",
        "colab_type": "code",
        "colab": {
          "base_uri": "https://localhost:8080/",
          "height": 141
        },
        "outputId": "375a919a-f167-43ff-ee38-c3ce1df9246e"
      },
      "source": [
        "!pip install vtreat"
      ],
      "execution_count": 21,
      "outputs": [
        {
          "output_type": "stream",
          "text": [
            "Requirement already satisfied: vtreat in /usr/local/lib/python3.6/dist-packages (0.4.3)\n",
            "Requirement already satisfied: numpy in /usr/local/lib/python3.6/dist-packages (from vtreat) (1.18.5)\n",
            "Requirement already satisfied: scipy in /usr/local/lib/python3.6/dist-packages (from vtreat) (1.4.1)\n",
            "Requirement already satisfied: pandas in /usr/local/lib/python3.6/dist-packages (from vtreat) (1.0.4)\n",
            "Requirement already satisfied: pytz>=2017.2 in /usr/local/lib/python3.6/dist-packages (from pandas->vtreat) (2018.9)\n",
            "Requirement already satisfied: python-dateutil>=2.6.1 in /usr/local/lib/python3.6/dist-packages (from pandas->vtreat) (2.8.1)\n",
            "Requirement already satisfied: six>=1.5 in /usr/local/lib/python3.6/dist-packages (from python-dateutil>=2.6.1->pandas->vtreat) (1.12.0)\n"
          ],
          "name": "stdout"
        }
      ]
    },
    {
      "cell_type": "code",
      "metadata": {
        "id": "wVXaqxxBoaEr",
        "colab_type": "code",
        "colab": {}
      },
      "source": [
        "import vtreat"
      ],
      "execution_count": 22,
      "outputs": []
    },
    {
      "cell_type": "code",
      "metadata": {
        "id": "YNlj562_oZ-d",
        "colab_type": "code",
        "colab": {}
      },
      "source": [
        "plan = vtreat.NumericOutcomeTreatment(outcome_name=\"Satisfaction\",params=vtreat.vtreat_parameters({'filter_to_recommended':False}))"
      ],
      "execution_count": 23,
      "outputs": []
    },
    {
      "cell_type": "code",
      "metadata": {
        "id": "UizI4LUJo0Ik",
        "colab_type": "code",
        "colab": {
          "base_uri": "https://localhost:8080/",
          "height": 34
        },
        "outputId": "97140935-659d-4ce4-b012-9a055f7aefd8"
      },
      "source": [
        "plan.fit(sdss_df_fe, sdss_df_fe[\"Satisfaction\"])"
      ],
      "execution_count": 24,
      "outputs": [
        {
          "output_type": "execute_result",
          "data": {
            "text/plain": [
              "vtreat.vtreat_api.NumericOutcomeTreatment(outcome_name='Satisfaction', cols_to_copy=['Satisfaction'], )"
            ]
          },
          "metadata": {
            "tags": []
          },
          "execution_count": 24
        }
      ]
    },
    {
      "cell_type": "code",
      "metadata": {
        "id": "ZfaW3Tszo0C0",
        "colab_type": "code",
        "colab": {
          "base_uri": "https://localhost:8080/",
          "height": 641
        },
        "outputId": "aea386a9-37f3-4ca8-97e1-801e3f1ccbed"
      },
      "source": [
        "plan.score_frame_"
      ],
      "execution_count": 27,
      "outputs": [
        {
          "output_type": "execute_result",
          "data": {
            "text/html": [
              "<div>\n",
              "<style scoped>\n",
              "    .dataframe tbody tr th:only-of-type {\n",
              "        vertical-align: middle;\n",
              "    }\n",
              "\n",
              "    .dataframe tbody tr th {\n",
              "        vertical-align: top;\n",
              "    }\n",
              "\n",
              "    .dataframe thead th {\n",
              "        text-align: right;\n",
              "    }\n",
              "</style>\n",
              "<table border=\"1\" class=\"dataframe\">\n",
              "  <thead>\n",
              "    <tr style=\"text-align: right;\">\n",
              "      <th></th>\n",
              "      <th>variable</th>\n",
              "      <th>orig_variable</th>\n",
              "      <th>treatment</th>\n",
              "      <th>y_aware</th>\n",
              "      <th>has_range</th>\n",
              "      <th>PearsonR</th>\n",
              "      <th>R2</th>\n",
              "      <th>significance</th>\n",
              "      <th>vcount</th>\n",
              "      <th>default_threshold</th>\n",
              "      <th>recommended</th>\n",
              "    </tr>\n",
              "  </thead>\n",
              "  <tbody>\n",
              "    <tr>\n",
              "      <th>0</th>\n",
              "      <td>DrugId</td>\n",
              "      <td>DrugId</td>\n",
              "      <td>clean_copy</td>\n",
              "      <td>False</td>\n",
              "      <td>True</td>\n",
              "      <td>-0.066333</td>\n",
              "      <td>0.004400</td>\n",
              "      <td>1.304031e-30</td>\n",
              "      <td>5.0</td>\n",
              "      <td>0.040000</td>\n",
              "      <td>True</td>\n",
              "    </tr>\n",
              "    <tr>\n",
              "      <th>1</th>\n",
              "      <td>EaseofUse</td>\n",
              "      <td>EaseofUse</td>\n",
              "      <td>clean_copy</td>\n",
              "      <td>False</td>\n",
              "      <td>True</td>\n",
              "      <td>0.588076</td>\n",
              "      <td>0.345834</td>\n",
              "      <td>0.000000e+00</td>\n",
              "      <td>5.0</td>\n",
              "      <td>0.040000</td>\n",
              "      <td>True</td>\n",
              "    </tr>\n",
              "    <tr>\n",
              "      <th>2</th>\n",
              "      <td>Effectiveness</td>\n",
              "      <td>Effectiveness</td>\n",
              "      <td>clean_copy</td>\n",
              "      <td>False</td>\n",
              "      <td>True</td>\n",
              "      <td>0.757426</td>\n",
              "      <td>0.573693</td>\n",
              "      <td>0.000000e+00</td>\n",
              "      <td>5.0</td>\n",
              "      <td>0.040000</td>\n",
              "      <td>True</td>\n",
              "    </tr>\n",
              "    <tr>\n",
              "      <th>3</th>\n",
              "      <td>UsefulCount</td>\n",
              "      <td>UsefulCount</td>\n",
              "      <td>clean_copy</td>\n",
              "      <td>False</td>\n",
              "      <td>True</td>\n",
              "      <td>0.003398</td>\n",
              "      <td>0.000012</td>\n",
              "      <td>5.561870e-01</td>\n",
              "      <td>5.0</td>\n",
              "      <td>0.040000</td>\n",
              "      <td>False</td>\n",
              "    </tr>\n",
              "    <tr>\n",
              "      <th>4</th>\n",
              "      <td>Sentiment_Rating</td>\n",
              "      <td>Sentiment_Rating</td>\n",
              "      <td>clean_copy</td>\n",
              "      <td>False</td>\n",
              "      <td>True</td>\n",
              "      <td>0.554663</td>\n",
              "      <td>0.307652</td>\n",
              "      <td>0.000000e+00</td>\n",
              "      <td>5.0</td>\n",
              "      <td>0.040000</td>\n",
              "      <td>True</td>\n",
              "    </tr>\n",
              "    <tr>\n",
              "      <th>5</th>\n",
              "      <td>Condition_impact_code</td>\n",
              "      <td>Condition</td>\n",
              "      <td>impact_code</td>\n",
              "      <td>True</td>\n",
              "      <td>True</td>\n",
              "      <td>0.292099</td>\n",
              "      <td>0.085322</td>\n",
              "      <td>0.000000e+00</td>\n",
              "      <td>3.0</td>\n",
              "      <td>0.066667</td>\n",
              "      <td>True</td>\n",
              "    </tr>\n",
              "    <tr>\n",
              "      <th>6</th>\n",
              "      <td>Condition_deviation_code</td>\n",
              "      <td>Condition</td>\n",
              "      <td>deviation_code</td>\n",
              "      <td>True</td>\n",
              "      <td>True</td>\n",
              "      <td>-0.072461</td>\n",
              "      <td>0.005251</td>\n",
              "      <td>3.240669e-36</td>\n",
              "      <td>3.0</td>\n",
              "      <td>0.066667</td>\n",
              "      <td>False</td>\n",
              "    </tr>\n",
              "    <tr>\n",
              "      <th>7</th>\n",
              "      <td>Condition_prevalence_code</td>\n",
              "      <td>Condition</td>\n",
              "      <td>prevalence_code</td>\n",
              "      <td>False</td>\n",
              "      <td>True</td>\n",
              "      <td>-0.004037</td>\n",
              "      <td>0.000016</td>\n",
              "      <td>4.844818e-01</td>\n",
              "      <td>3.0</td>\n",
              "      <td>0.066667</td>\n",
              "      <td>False</td>\n",
              "    </tr>\n",
              "    <tr>\n",
              "      <th>8</th>\n",
              "      <td>Condition_lev_Other</td>\n",
              "      <td>Condition</td>\n",
              "      <td>indicator_code</td>\n",
              "      <td>False</td>\n",
              "      <td>True</td>\n",
              "      <td>-0.036133</td>\n",
              "      <td>0.001306</td>\n",
              "      <td>3.850079e-10</td>\n",
              "      <td>4.0</td>\n",
              "      <td>0.050000</td>\n",
              "      <td>True</td>\n",
              "    </tr>\n",
              "    <tr>\n",
              "      <th>9</th>\n",
              "      <td>Sex_impact_code</td>\n",
              "      <td>Sex</td>\n",
              "      <td>impact_code</td>\n",
              "      <td>True</td>\n",
              "      <td>True</td>\n",
              "      <td>0.060592</td>\n",
              "      <td>0.003671</td>\n",
              "      <td>8.298021e-26</td>\n",
              "      <td>3.0</td>\n",
              "      <td>0.066667</td>\n",
              "      <td>True</td>\n",
              "    </tr>\n",
              "    <tr>\n",
              "      <th>10</th>\n",
              "      <td>Sex_deviation_code</td>\n",
              "      <td>Sex</td>\n",
              "      <td>deviation_code</td>\n",
              "      <td>True</td>\n",
              "      <td>True</td>\n",
              "      <td>-0.060598</td>\n",
              "      <td>0.003672</td>\n",
              "      <td>8.214971e-26</td>\n",
              "      <td>3.0</td>\n",
              "      <td>0.066667</td>\n",
              "      <td>False</td>\n",
              "    </tr>\n",
              "    <tr>\n",
              "      <th>11</th>\n",
              "      <td>Sex_prevalence_code</td>\n",
              "      <td>Sex</td>\n",
              "      <td>prevalence_code</td>\n",
              "      <td>False</td>\n",
              "      <td>True</td>\n",
              "      <td>-0.038266</td>\n",
              "      <td>0.001464</td>\n",
              "      <td>3.363403e-11</td>\n",
              "      <td>3.0</td>\n",
              "      <td>0.066667</td>\n",
              "      <td>True</td>\n",
              "    </tr>\n",
              "    <tr>\n",
              "      <th>12</th>\n",
              "      <td>Sex_lev_Female</td>\n",
              "      <td>Sex</td>\n",
              "      <td>indicator_code</td>\n",
              "      <td>False</td>\n",
              "      <td>True</td>\n",
              "      <td>-0.044834</td>\n",
              "      <td>0.002010</td>\n",
              "      <td>7.926321e-15</td>\n",
              "      <td>4.0</td>\n",
              "      <td>0.050000</td>\n",
              "      <td>True</td>\n",
              "    </tr>\n",
              "    <tr>\n",
              "      <th>13</th>\n",
              "      <td>Sex_lev_Male</td>\n",
              "      <td>Sex</td>\n",
              "      <td>indicator_code</td>\n",
              "      <td>False</td>\n",
              "      <td>True</td>\n",
              "      <td>0.060835</td>\n",
              "      <td>0.003701</td>\n",
              "      <td>5.306214e-26</td>\n",
              "      <td>4.0</td>\n",
              "      <td>0.050000</td>\n",
              "      <td>True</td>\n",
              "    </tr>\n",
              "    <tr>\n",
              "      <th>14</th>\n",
              "      <td>Sides_impact_code</td>\n",
              "      <td>Sides</td>\n",
              "      <td>impact_code</td>\n",
              "      <td>True</td>\n",
              "      <td>True</td>\n",
              "      <td>0.297501</td>\n",
              "      <td>0.088507</td>\n",
              "      <td>0.000000e+00</td>\n",
              "      <td>3.0</td>\n",
              "      <td>0.066667</td>\n",
              "      <td>True</td>\n",
              "    </tr>\n",
              "    <tr>\n",
              "      <th>15</th>\n",
              "      <td>Sides_deviation_code</td>\n",
              "      <td>Sides</td>\n",
              "      <td>deviation_code</td>\n",
              "      <td>True</td>\n",
              "      <td>True</td>\n",
              "      <td>-0.137494</td>\n",
              "      <td>0.018905</td>\n",
              "      <td>1.620144e-126</td>\n",
              "      <td>3.0</td>\n",
              "      <td>0.066667</td>\n",
              "      <td>False</td>\n",
              "    </tr>\n",
              "    <tr>\n",
              "      <th>16</th>\n",
              "      <td>Sides_prevalence_code</td>\n",
              "      <td>Sides</td>\n",
              "      <td>prevalence_code</td>\n",
              "      <td>False</td>\n",
              "      <td>True</td>\n",
              "      <td>-0.008894</td>\n",
              "      <td>0.000079</td>\n",
              "      <td>1.234426e-01</td>\n",
              "      <td>3.0</td>\n",
              "      <td>0.066667</td>\n",
              "      <td>False</td>\n",
              "    </tr>\n",
              "    <tr>\n",
              "      <th>17</th>\n",
              "      <td>Sides_lev_Nausea ,  vomiting , loss of appetit...</td>\n",
              "      <td>Sides</td>\n",
              "      <td>indicator_code</td>\n",
              "      <td>False</td>\n",
              "      <td>True</td>\n",
              "      <td>-0.014443</td>\n",
              "      <td>0.000209</td>\n",
              "      <td>1.236705e-02</td>\n",
              "      <td>4.0</td>\n",
              "      <td>0.050000</td>\n",
              "      <td>True</td>\n",
              "    </tr>\n",
              "  </tbody>\n",
              "</table>\n",
              "</div>"
            ],
            "text/plain": [
              "                                             variable  ... recommended\n",
              "0                                              DrugId  ...        True\n",
              "1                                           EaseofUse  ...        True\n",
              "2                                       Effectiveness  ...        True\n",
              "3                                         UsefulCount  ...       False\n",
              "4                                    Sentiment_Rating  ...        True\n",
              "5                               Condition_impact_code  ...        True\n",
              "6                            Condition_deviation_code  ...       False\n",
              "7                           Condition_prevalence_code  ...       False\n",
              "8                                 Condition_lev_Other  ...        True\n",
              "9                                     Sex_impact_code  ...        True\n",
              "10                                 Sex_deviation_code  ...       False\n",
              "11                                Sex_prevalence_code  ...        True\n",
              "12                                     Sex_lev_Female  ...        True\n",
              "13                                       Sex_lev_Male  ...        True\n",
              "14                                  Sides_impact_code  ...        True\n",
              "15                               Sides_deviation_code  ...       False\n",
              "16                              Sides_prevalence_code  ...       False\n",
              "17  Sides_lev_Nausea ,  vomiting , loss of appetit...  ...        True\n",
              "\n",
              "[18 rows x 11 columns]"
            ]
          },
          "metadata": {
            "tags": []
          },
          "execution_count": 27
        }
      ]
    },
    {
      "cell_type": "code",
      "metadata": {
        "id": "2TSNJ6xaoz9x",
        "colab_type": "code",
        "colab": {
          "base_uri": "https://localhost:8080/",
          "height": 613
        },
        "outputId": "ff058884-7cf4-4179-e254-715e86eaf5a4"
      },
      "source": [
        "dTreated = plan.transform(sdss_df_fe)\n",
        "dTreated"
      ],
      "execution_count": 28,
      "outputs": [
        {
          "output_type": "stream",
          "text": [
            "/usr/local/lib/python3.6/dist-packages/vtreat/vtreat_api.py:109: UserWarning: possibly called transform on same data used to fit\n",
            "(this causes over-fit, please use fit_transform() instead)\n",
            "  \"(this causes over-fit, please use fit_transform() instead)\")\n"
          ],
          "name": "stderr"
        },
        {
          "output_type": "execute_result",
          "data": {
            "text/html": [
              "<div>\n",
              "<style scoped>\n",
              "    .dataframe tbody tr th:only-of-type {\n",
              "        vertical-align: middle;\n",
              "    }\n",
              "\n",
              "    .dataframe tbody tr th {\n",
              "        vertical-align: top;\n",
              "    }\n",
              "\n",
              "    .dataframe thead th {\n",
              "        text-align: right;\n",
              "    }\n",
              "</style>\n",
              "<table border=\"1\" class=\"dataframe\">\n",
              "  <thead>\n",
              "    <tr style=\"text-align: right;\">\n",
              "      <th></th>\n",
              "      <th>Satisfaction</th>\n",
              "      <th>DrugId</th>\n",
              "      <th>EaseofUse</th>\n",
              "      <th>Effectiveness</th>\n",
              "      <th>UsefulCount</th>\n",
              "      <th>Sentiment_Rating</th>\n",
              "      <th>Condition_impact_code</th>\n",
              "      <th>Condition_deviation_code</th>\n",
              "      <th>Condition_prevalence_code</th>\n",
              "      <th>Condition_lev_Other</th>\n",
              "      <th>Sex_impact_code</th>\n",
              "      <th>Sex_deviation_code</th>\n",
              "      <th>Sex_prevalence_code</th>\n",
              "      <th>Sex_lev_Female</th>\n",
              "      <th>Sex_lev_Male</th>\n",
              "      <th>Sides_impact_code</th>\n",
              "      <th>Sides_deviation_code</th>\n",
              "      <th>Sides_prevalence_code</th>\n",
              "      <th>Sides_lev_Nausea ,  vomiting , loss of appetite,  heartburn ,  trouble sleeping , increased  sweating , or  acne  may occur_</th>\n",
              "    </tr>\n",
              "  </thead>\n",
              "  <tbody>\n",
              "    <tr>\n",
              "      <th>0</th>\n",
              "      <td>3</td>\n",
              "      <td>17116.0</td>\n",
              "      <td>5.0</td>\n",
              "      <td>3.0</td>\n",
              "      <td>13.0</td>\n",
              "      <td>4.0</td>\n",
              "      <td>0.807982</td>\n",
              "      <td>1.309518</td>\n",
              "      <td>0.006934</td>\n",
              "      <td>0.0</td>\n",
              "      <td>-0.045521</td>\n",
              "      <td>1.628047</td>\n",
              "      <td>0.715714</td>\n",
              "      <td>1.0</td>\n",
              "      <td>0.0</td>\n",
              "      <td>0.490778</td>\n",
              "      <td>1.592549</td>\n",
              "      <td>0.002400</td>\n",
              "      <td>0.0</td>\n",
              "    </tr>\n",
              "    <tr>\n",
              "      <th>1</th>\n",
              "      <td>1</td>\n",
              "      <td>911.0</td>\n",
              "      <td>4.0</td>\n",
              "      <td>4.0</td>\n",
              "      <td>3.0</td>\n",
              "      <td>1.0</td>\n",
              "      <td>0.413530</td>\n",
              "      <td>1.452197</td>\n",
              "      <td>0.027102</td>\n",
              "      <td>0.0</td>\n",
              "      <td>-0.045521</td>\n",
              "      <td>1.628047</td>\n",
              "      <td>0.715714</td>\n",
              "      <td>1.0</td>\n",
              "      <td>0.0</td>\n",
              "      <td>0.059516</td>\n",
              "      <td>1.550697</td>\n",
              "      <td>0.010501</td>\n",
              "      <td>0.0</td>\n",
              "    </tr>\n",
              "    <tr>\n",
              "      <th>2</th>\n",
              "      <td>3</td>\n",
              "      <td>4520.0</td>\n",
              "      <td>4.0</td>\n",
              "      <td>4.0</td>\n",
              "      <td>10.0</td>\n",
              "      <td>4.0</td>\n",
              "      <td>-0.009156</td>\n",
              "      <td>1.556010</td>\n",
              "      <td>0.001167</td>\n",
              "      <td>0.0</td>\n",
              "      <td>0.183169</td>\n",
              "      <td>1.554045</td>\n",
              "      <td>0.219481</td>\n",
              "      <td>0.0</td>\n",
              "      <td>1.0</td>\n",
              "      <td>-0.059000</td>\n",
              "      <td>1.621506</td>\n",
              "      <td>0.001500</td>\n",
              "      <td>0.0</td>\n",
              "    </tr>\n",
              "    <tr>\n",
              "      <th>3</th>\n",
              "      <td>0</td>\n",
              "      <td>13706.0</td>\n",
              "      <td>3.0</td>\n",
              "      <td>1.0</td>\n",
              "      <td>20.0</td>\n",
              "      <td>1.0</td>\n",
              "      <td>0.046064</td>\n",
              "      <td>1.550642</td>\n",
              "      <td>0.066104</td>\n",
              "      <td>0.0</td>\n",
              "      <td>-0.045521</td>\n",
              "      <td>1.628047</td>\n",
              "      <td>0.715714</td>\n",
              "      <td>1.0</td>\n",
              "      <td>0.0</td>\n",
              "      <td>-0.335087</td>\n",
              "      <td>1.449446</td>\n",
              "      <td>0.011701</td>\n",
              "      <td>0.0</td>\n",
              "    </tr>\n",
              "    <tr>\n",
              "      <th>4</th>\n",
              "      <td>0</td>\n",
              "      <td>13706.0</td>\n",
              "      <td>3.0</td>\n",
              "      <td>1.0</td>\n",
              "      <td>28.0</td>\n",
              "      <td>1.0</td>\n",
              "      <td>0.046064</td>\n",
              "      <td>1.550642</td>\n",
              "      <td>0.066104</td>\n",
              "      <td>0.0</td>\n",
              "      <td>-0.045521</td>\n",
              "      <td>1.628047</td>\n",
              "      <td>0.715714</td>\n",
              "      <td>1.0</td>\n",
              "      <td>0.0</td>\n",
              "      <td>-0.335087</td>\n",
              "      <td>1.449446</td>\n",
              "      <td>0.011701</td>\n",
              "      <td>0.0</td>\n",
              "    </tr>\n",
              "    <tr>\n",
              "      <th>...</th>\n",
              "      <td>...</td>\n",
              "      <td>...</td>\n",
              "      <td>...</td>\n",
              "      <td>...</td>\n",
              "      <td>...</td>\n",
              "      <td>...</td>\n",
              "      <td>...</td>\n",
              "      <td>...</td>\n",
              "      <td>...</td>\n",
              "      <td>...</td>\n",
              "      <td>...</td>\n",
              "      <td>...</td>\n",
              "      <td>...</td>\n",
              "      <td>...</td>\n",
              "      <td>...</td>\n",
              "      <td>...</td>\n",
              "      <td>...</td>\n",
              "      <td>...</td>\n",
              "      <td>...</td>\n",
              "    </tr>\n",
              "    <tr>\n",
              "      <th>29993</th>\n",
              "      <td>4</td>\n",
              "      <td>4151.0</td>\n",
              "      <td>5.0</td>\n",
              "      <td>5.0</td>\n",
              "      <td>2.0</td>\n",
              "      <td>2.0</td>\n",
              "      <td>-0.147806</td>\n",
              "      <td>1.655910</td>\n",
              "      <td>0.135209</td>\n",
              "      <td>1.0</td>\n",
              "      <td>-0.045521</td>\n",
              "      <td>1.628047</td>\n",
              "      <td>0.715714</td>\n",
              "      <td>1.0</td>\n",
              "      <td>0.0</td>\n",
              "      <td>0.950179</td>\n",
              "      <td>1.217771</td>\n",
              "      <td>0.062004</td>\n",
              "      <td>0.0</td>\n",
              "    </tr>\n",
              "    <tr>\n",
              "      <th>29994</th>\n",
              "      <td>4</td>\n",
              "      <td>4151.0</td>\n",
              "      <td>4.0</td>\n",
              "      <td>4.0</td>\n",
              "      <td>9.0</td>\n",
              "      <td>4.0</td>\n",
              "      <td>0.944111</td>\n",
              "      <td>1.217276</td>\n",
              "      <td>0.056470</td>\n",
              "      <td>0.0</td>\n",
              "      <td>-0.045521</td>\n",
              "      <td>1.628047</td>\n",
              "      <td>0.715714</td>\n",
              "      <td>1.0</td>\n",
              "      <td>0.0</td>\n",
              "      <td>0.950179</td>\n",
              "      <td>1.217771</td>\n",
              "      <td>0.062004</td>\n",
              "      <td>0.0</td>\n",
              "    </tr>\n",
              "    <tr>\n",
              "      <th>29995</th>\n",
              "      <td>2</td>\n",
              "      <td>4151.0</td>\n",
              "      <td>3.0</td>\n",
              "      <td>4.0</td>\n",
              "      <td>3.0</td>\n",
              "      <td>3.0</td>\n",
              "      <td>0.944111</td>\n",
              "      <td>1.217276</td>\n",
              "      <td>0.056470</td>\n",
              "      <td>0.0</td>\n",
              "      <td>-0.045521</td>\n",
              "      <td>1.628047</td>\n",
              "      <td>0.715714</td>\n",
              "      <td>1.0</td>\n",
              "      <td>0.0</td>\n",
              "      <td>0.950179</td>\n",
              "      <td>1.217771</td>\n",
              "      <td>0.062004</td>\n",
              "      <td>0.0</td>\n",
              "    </tr>\n",
              "    <tr>\n",
              "      <th>29996</th>\n",
              "      <td>4</td>\n",
              "      <td>4151.0</td>\n",
              "      <td>5.0</td>\n",
              "      <td>5.0</td>\n",
              "      <td>3.0</td>\n",
              "      <td>3.0</td>\n",
              "      <td>-0.147806</td>\n",
              "      <td>1.655910</td>\n",
              "      <td>0.135209</td>\n",
              "      <td>1.0</td>\n",
              "      <td>-0.045521</td>\n",
              "      <td>1.628047</td>\n",
              "      <td>0.715714</td>\n",
              "      <td>1.0</td>\n",
              "      <td>0.0</td>\n",
              "      <td>0.950179</td>\n",
              "      <td>1.217771</td>\n",
              "      <td>0.062004</td>\n",
              "      <td>0.0</td>\n",
              "    </tr>\n",
              "    <tr>\n",
              "      <th>29997</th>\n",
              "      <td>2</td>\n",
              "      <td>4151.0</td>\n",
              "      <td>5.0</td>\n",
              "      <td>3.0</td>\n",
              "      <td>0.0</td>\n",
              "      <td>1.0</td>\n",
              "      <td>0.944111</td>\n",
              "      <td>1.217276</td>\n",
              "      <td>0.056470</td>\n",
              "      <td>0.0</td>\n",
              "      <td>-0.045521</td>\n",
              "      <td>1.628047</td>\n",
              "      <td>0.715714</td>\n",
              "      <td>1.0</td>\n",
              "      <td>0.0</td>\n",
              "      <td>0.950179</td>\n",
              "      <td>1.217771</td>\n",
              "      <td>0.062004</td>\n",
              "      <td>0.0</td>\n",
              "    </tr>\n",
              "  </tbody>\n",
              "</table>\n",
              "<p>29998 rows × 19 columns</p>\n",
              "</div>"
            ],
            "text/plain": [
              "       Satisfaction  ...  Sides_lev_Nausea ,  vomiting , loss of appetite,  heartburn ,  trouble sleeping , increased  sweating , or  acne  may occur_\n",
              "0                 3  ...                                                0.0                                                                           \n",
              "1                 1  ...                                                0.0                                                                           \n",
              "2                 3  ...                                                0.0                                                                           \n",
              "3                 0  ...                                                0.0                                                                           \n",
              "4                 0  ...                                                0.0                                                                           \n",
              "...             ...  ...                                                ...                                                                           \n",
              "29993             4  ...                                                0.0                                                                           \n",
              "29994             4  ...                                                0.0                                                                           \n",
              "29995             2  ...                                                0.0                                                                           \n",
              "29996             4  ...                                                0.0                                                                           \n",
              "29997             2  ...                                                0.0                                                                           \n",
              "\n",
              "[29998 rows x 19 columns]"
            ]
          },
          "metadata": {
            "tags": []
          },
          "execution_count": 28
        }
      ]
    },
    {
      "cell_type": "code",
      "metadata": {
        "id": "pqJhsV8uozox",
        "colab_type": "code",
        "colab": {
          "base_uri": "https://localhost:8080/",
          "height": 372
        },
        "outputId": "6fe5160f-c5df-440f-fd73-81ed94ba13c0"
      },
      "source": [
        "dTreated.isnull().sum()"
      ],
      "execution_count": 41,
      "outputs": [
        {
          "output_type": "execute_result",
          "data": {
            "text/plain": [
              "Satisfaction                                                                                                                    0.0\n",
              "DrugId                                                                                                                          0.0\n",
              "EaseofUse                                                                                                                       0.0\n",
              "Effectiveness                                                                                                                   0.0\n",
              "UsefulCount                                                                                                                     0.0\n",
              "Sentiment_Rating                                                                                                                0.0\n",
              "Condition_impact_code                                                                                                           0.0\n",
              "Condition_deviation_code                                                                                                        0.0\n",
              "Condition_prevalence_code                                                                                                       0.0\n",
              "Condition_lev_Other                                                                                                             0.0\n",
              "Sex_impact_code                                                                                                                 0.0\n",
              "Sex_deviation_code                                                                                                              0.0\n",
              "Sex_prevalence_code                                                                                                             0.0\n",
              "Sex_lev_Female                                                                                                                  0.0\n",
              "Sex_lev_Male                                                                                                                    0.0\n",
              "Sides_impact_code                                                                                                               0.0\n",
              "Sides_deviation_code                                                                                                            0.0\n",
              "Sides_prevalence_code                                                                                                           0.0\n",
              "Sides_lev_Nausea ,  vomiting , loss of appetite,  heartburn ,  trouble sleeping , increased  sweating , or  acne  may occur_    0.0\n",
              "dtype: float64"
            ]
          },
          "metadata": {
            "tags": []
          },
          "execution_count": 41
        }
      ]
    },
    {
      "cell_type": "code",
      "metadata": {
        "id": "VrFIBVC_ozjn",
        "colab_type": "code",
        "colab": {
          "base_uri": "https://localhost:8080/",
          "height": 392
        },
        "outputId": "766aa354-a7a3-4d0d-d8dc-48f354db3704"
      },
      "source": [
        "print(dTreated.dtypes)"
      ],
      "execution_count": 42,
      "outputs": [
        {
          "output_type": "stream",
          "text": [
            "Satisfaction                                                                                                                                   int64\n",
            "DrugId                                                                                                                                       float64\n",
            "EaseofUse                                                                                                                                    float64\n",
            "Effectiveness                                                                                                                                float64\n",
            "UsefulCount                                                                                                                                  float64\n",
            "Sentiment_Rating                                                                                                                             float64\n",
            "Condition_impact_code                                                                                                                        float64\n",
            "Condition_deviation_code                                                                                                                     float64\n",
            "Condition_prevalence_code                                                                                                                    float64\n",
            "Condition_lev_Other                                                                                                             Sparse[float64, 0.0]\n",
            "Sex_impact_code                                                                                                                              float64\n",
            "Sex_deviation_code                                                                                                                           float64\n",
            "Sex_prevalence_code                                                                                                                          float64\n",
            "Sex_lev_Female                                                                                                                  Sparse[float64, 0.0]\n",
            "Sex_lev_Male                                                                                                                    Sparse[float64, 0.0]\n",
            "Sides_impact_code                                                                                                                            float64\n",
            "Sides_deviation_code                                                                                                                         float64\n",
            "Sides_prevalence_code                                                                                                                        float64\n",
            "Sides_lev_Nausea ,  vomiting , loss of appetite,  heartburn ,  trouble sleeping , increased  sweating , or  acne  may occur_    Sparse[float64, 0.0]\n",
            "dtype: object\n"
          ],
          "name": "stdout"
        }
      ]
    },
    {
      "cell_type": "code",
      "metadata": {
        "id": "juzK3MCTozes",
        "colab_type": "code",
        "colab": {}
      },
      "source": [
        "dTreated.drop(['Condition_lev_Other', 'Sides_lev_Nausea ,  vomiting , loss of appetite,  heartburn ,  trouble sleeping , increased  sweating , or  acne  may occur_'], axis=1, inplace=True)"
      ],
      "execution_count": null,
      "outputs": []
    },
    {
      "cell_type": "code",
      "metadata": {
        "id": "ub5pelfxwfOw",
        "colab_type": "code",
        "colab": {}
      },
      "source": [
        "\n",
        "dTreated.drop(['Sex_lev_Male', 'Sex_lev_Female'], axis=1, inplace=True)"
      ],
      "execution_count": 49,
      "outputs": []
    },
    {
      "cell_type": "code",
      "metadata": {
        "id": "mnas9do2ozZx",
        "colab_type": "code",
        "colab": {
          "base_uri": "https://localhost:8080/",
          "height": 301
        },
        "outputId": "6cb1a33a-e4fc-4afd-c0f8-7e912c2fd867"
      },
      "source": [
        "print(dTreated.dtypes)"
      ],
      "execution_count": 50,
      "outputs": [
        {
          "output_type": "stream",
          "text": [
            "Satisfaction                   int64\n",
            "DrugId                       float64\n",
            "EaseofUse                    float64\n",
            "Effectiveness                float64\n",
            "UsefulCount                  float64\n",
            "Sentiment_Rating             float64\n",
            "Condition_impact_code        float64\n",
            "Condition_deviation_code     float64\n",
            "Condition_prevalence_code    float64\n",
            "Sex_impact_code              float64\n",
            "Sex_deviation_code           float64\n",
            "Sex_prevalence_code          float64\n",
            "Sides_impact_code            float64\n",
            "Sides_deviation_code         float64\n",
            "Sides_prevalence_code        float64\n",
            "dtype: object\n"
          ],
          "name": "stdout"
        }
      ]
    },
    {
      "cell_type": "code",
      "metadata": {
        "id": "vZxsLUH7eU5s",
        "colab_type": "code",
        "colab": {}
      },
      "source": [
        "scaler = MinMaxScaler()\n",
        "sdss = scaler.fit_transform(dTreated.drop('Satisfaction', axis=1))\n"
      ],
      "execution_count": 83,
      "outputs": []
    },
    {
      "cell_type": "code",
      "metadata": {
        "id": "cWRNtCELegIl",
        "colab_type": "code",
        "colab": {}
      },
      "source": [
        "X_train, X_test, y_train, y_test = train_test_split(sdss, dTreated['Satisfaction'], test_size=0.33)"
      ],
      "execution_count": 76,
      "outputs": []
    },
    {
      "cell_type": "code",
      "metadata": {
        "id": "aNvVt5SufuVl",
        "colab_type": "code",
        "colab": {
          "base_uri": "https://localhost:8080/",
          "height": 70
        },
        "outputId": "736474fa-e272-4aad-ae68-ee52c4378aa8"
      },
      "source": [
        "knn = KNeighborsClassifier()\n",
        "training_start = time.perf_counter()\n",
        "knn.fit(X_train, y_train)\n",
        "training_end = time.perf_counter()\n",
        "prediction_start = time.perf_counter()\n",
        "preds = knn.predict(X_test)\n",
        "prediction_end = time.perf_counter()\n",
        "acc_knn = (preds == y_test).sum().astype(float) / len(preds)*100\n",
        "knn_train_time = training_end-training_start\n",
        "knn_prediction_time = prediction_end-prediction_start\n",
        "print(\"Scikit-Learn's K Nearest Neighbors Classifier's prediction accuracy is: %3.2f\" % (acc_knn))\n",
        "print(\"Time consumed for training: %4.3f seconds\" % (knn_train_time))\n",
        "print(\"Time consumed for prediction: %6.5f seconds\" % (knn_prediction_time))"
      ],
      "execution_count": 77,
      "outputs": [
        {
          "output_type": "stream",
          "text": [
            "Scikit-Learn's K Nearest Neighbors Classifier's prediction accuracy is: 64.63\n",
            "Time consumed for training: 0.059 seconds\n",
            "Time consumed for prediction: 0.99322 seconds\n"
          ],
          "name": "stdout"
        }
      ]
    },
    {
      "cell_type": "code",
      "metadata": {
        "id": "88u3t5JigRNc",
        "colab_type": "code",
        "colab": {
          "base_uri": "https://localhost:8080/",
          "height": 70
        },
        "outputId": "5af9b861-14b2-43a0-d9c0-2f4720920ec7"
      },
      "source": [
        "from sklearn.preprocessing import MaxAbsScaler\n",
        "scaler_gnb = MaxAbsScaler()\n",
        "sdss = scaler_gnb.fit_transform(dTreated.drop('Satisfaction', axis=1))\n",
        "X_train_gnb, X_test_gnb, y_train_gnb, y_test_gnb = train_test_split(sdss, dTreated['Satisfaction'], test_size=0.33)\n",
        "\n",
        "gnb = GaussianNB()\n",
        "training_start = time.perf_counter()\n",
        "gnb.fit(X_train_gnb, y_train_gnb)\n",
        "training_end = time.perf_counter()\n",
        "prediction_start = time.perf_counter()\n",
        "preds = gnb.predict(X_test_gnb)\n",
        "prediction_end = time.perf_counter()\n",
        "acc_gnb = (preds == y_test_gnb).sum().astype(float) / len(preds)*100\n",
        "gnb_train_time = training_end-training_start\n",
        "gnb_prediction_time = prediction_end-prediction_start\n",
        "print(\"Scikit-Learn's Gaussian Naive Bayes Classifier's prediction accuracy is: %3.2f\" % (acc_gnb))\n",
        "print(\"Time consumed for training: %4.3f seconds\" % (gnb_train_time))\n",
        "print(\"Time consumed for prediction: %6.5f seconds\" % (gnb_prediction_time))"
      ],
      "execution_count": 110,
      "outputs": [
        {
          "output_type": "stream",
          "text": [
            "Scikit-Learn's Gaussian Naive Bayes Classifier's prediction accuracy is: 63.08\n",
            "Time consumed for training: 0.015 seconds\n",
            "Time consumed for prediction: 0.01003 seconds\n"
          ],
          "name": "stdout"
        }
      ]
    },
    {
      "cell_type": "code",
      "metadata": {
        "id": "3h-LITkqgV0E",
        "colab_type": "code",
        "colab": {
          "base_uri": "https://localhost:8080/",
          "height": 70
        },
        "outputId": "b34c3055-6fa2-4348-fc26-d2ce48b0f3df"
      },
      "source": [
        "xgb = XGBClassifier(n_estimators=100)\n",
        "training_start = time.perf_counter()\n",
        "xgb.fit(X_train, y_train)\n",
        "training_end = time.perf_counter()\n",
        "prediction_start = time.perf_counter()\n",
        "preds = xgb.predict(X_test)\n",
        "prediction_end = time.perf_counter()\n",
        "acc_xgb = (preds == y_test).sum().astype(float) / len(preds)*100\n",
        "xgb_train_time = training_end-training_start\n",
        "xgb_prediction_time = prediction_end-prediction_start\n",
        "print(\"XGBoost's prediction accuracy is: %3.2f\" % (acc_xgb))\n",
        "print(\"Time consumed for training: %4.3f\" % (xgb_train_time))\n",
        "print(\"Time consumed for prediction: %6.5f seconds\" % (xgb_prediction_time))"
      ],
      "execution_count": 79,
      "outputs": [
        {
          "output_type": "stream",
          "text": [
            "XGBoost's prediction accuracy is: 67.61\n",
            "Time consumed for training: 4.430\n",
            "Time consumed for prediction: 0.15690 seconds\n"
          ],
          "name": "stdout"
        }
      ]
    },
    {
      "cell_type": "code",
      "metadata": {
        "id": "KjtKNARjgfrr",
        "colab_type": "code",
        "colab": {
          "base_uri": "https://localhost:8080/",
          "height": 70
        },
        "outputId": "3f1731aa-6ba3-41d7-99d5-2311ff7e24cf"
      },
      "source": [
        "rfc = RandomForestClassifier(n_estimators=10)\n",
        "training_start = time.perf_counter()\n",
        "rfc.fit(X_train, y_train)\n",
        "training_end = time.perf_counter()\n",
        "prediction_start = time.perf_counter()\n",
        "preds = rfc.predict(X_test)\n",
        "prediction_end = time.perf_counter()\n",
        "acc_rfc = (preds == y_test).sum().astype(float) / len(preds)*100\n",
        "rfc_train_time = training_end-training_start\n",
        "rfc_prediction_time = prediction_end-prediction_start\n",
        "print(\"Scikit-Learn's Random Forest Classifier's prediction accuracy is: %3.2f\" % (acc_rfc))\n",
        "print(\"Time consumed for training: %4.3f seconds\" % (rfc_train_time))\n",
        "print(\"Time consumed for prediction: %6.5f seconds\" % (rfc_prediction_time))"
      ],
      "execution_count": 80,
      "outputs": [
        {
          "output_type": "stream",
          "text": [
            "Scikit-Learn's Random Forest Classifier's prediction accuracy is: 71.63\n",
            "Time consumed for training: 0.243 seconds\n",
            "Time consumed for prediction: 0.02584 seconds\n"
          ],
          "name": "stdout"
        }
      ]
    },
    {
      "cell_type": "code",
      "metadata": {
        "id": "AKQwbqIxgjCO",
        "colab_type": "code",
        "colab": {
          "base_uri": "https://localhost:8080/",
          "height": 70
        },
        "outputId": "4502507d-a28d-4d0c-ff6b-9058da7864fd"
      },
      "source": [
        "svc = SVC()\n",
        "training_start = time.perf_counter()\n",
        "svc.fit(X_train, y_train)\n",
        "training_end = time.perf_counter()\n",
        "prediction_start = time.perf_counter()\n",
        "preds = svc.predict(X_test)\n",
        "prediction_end = time.perf_counter()\n",
        "acc_svc = (preds == y_test).sum().astype(float) / len(preds)*100\n",
        "svc_train_time = training_end-training_start\n",
        "svc_prediction_time = prediction_end-prediction_start\n",
        "print(\"Scikit-Learn's Support Vector Machine Classifier's prediction accuracy is: %3.2f\" % (acc_svc))\n",
        "print(\"Time consumed for training: %4.3f seconds\" % (svc_train_time))\n",
        "print(\"Time consumed for prediction: %6.5f seconds\" % (svc_prediction_time))\n"
      ],
      "execution_count": 81,
      "outputs": [
        {
          "output_type": "stream",
          "text": [
            "Scikit-Learn's Support Vector Machine Classifier's prediction accuracy is: 66.76\n",
            "Time consumed for training: 16.492 seconds\n",
            "Time consumed for prediction: 5.03328 seconds\n"
          ],
          "name": "stdout"
        }
      ]
    },
    {
      "cell_type": "code",
      "metadata": {
        "id": "Ivf7VJgrO0kR",
        "colab_type": "code",
        "colab": {
          "base_uri": "https://localhost:8080/",
          "height": 70
        },
        "outputId": "fa9e0e73-b5d4-4e37-a2c5-77c3140fe21e"
      },
      "source": [
        "from sklearn.ensemble import GradientBoostingClassifier\n",
        "gbk = GradientBoostingClassifier()\n",
        "gbk.fit(X_train, y_train)\n",
        "\n",
        "training_start = time.perf_counter()\n",
        "gbk.fit(X_train, y_train)\n",
        "training_end = time.perf_counter()\n",
        "prediction_start = time.perf_counter()\n",
        "preds = gbk.predict(X_test)\n",
        "prediction_end = time.perf_counter()\n",
        "acc_gbk = (preds == y_test).sum().astype(float) / len(preds)*100\n",
        "gbk_train_time = training_end-training_start\n",
        "gbk_prediction_time = prediction_end-prediction_start\n",
        "print(\"Scikit-Learn's Support Vector Machine Classifier's prediction accuracy is: %3.2f\" % (acc_gbk))\n",
        "print(\"Time consumed for training: %4.3f seconds\" % (gbk_train_time))\n",
        "print(\"Time consumed for prediction: %6.5f seconds\" % (gbk_prediction_time))\n",
        "\n"
      ],
      "execution_count": 84,
      "outputs": [
        {
          "output_type": "stream",
          "text": [
            "Scikit-Learn's Support Vector Machine Classifier's prediction accuracy is: 67.74\n",
            "Time consumed for training: 15.130 seconds\n",
            "Time consumed for prediction: 0.08996 seconds\n"
          ],
          "name": "stdout"
        }
      ]
    },
    {
      "cell_type": "code",
      "metadata": {
        "id": "3zuV940BP5D5",
        "colab_type": "code",
        "colab": {
          "base_uri": "https://localhost:8080/",
          "height": 123
        },
        "outputId": "3cc4adff-4c16-41ca-d42b-ed2dd7774cf3"
      },
      "source": [
        "from sklearn.metrics import accuracy_score\n",
        "from sklearn.model_selection import cross_val_score, KFold\n",
        "\n",
        "k_fold = KFold(n_splits=10, shuffle=True, random_state=0)\n",
        "\n",
        "\n",
        "gbkpred = gbk.predict(X_test)\n",
        "print(confusion_matrix(y_test, gbkpred ))\n",
        "print(round(accuracy_score(y_test, gbkpred),2)*100)\n",
        "GBKCV = (cross_val_score(gbk, X_train, y_train, cv=k_fold, n_jobs=1, scoring = 'accuracy').mean())\n"
      ],
      "execution_count": 85,
      "outputs": [
        {
          "output_type": "stream",
          "text": [
            "[[2258   94  164   88  105]\n",
            " [ 399  159  244   96   92]\n",
            " [ 204   84  593  309  204]\n",
            " [  70   27  212  908  402]\n",
            " [  48    4   49  299 2788]]\n",
            "68.0\n"
          ],
          "name": "stdout"
        }
      ]
    },
    {
      "cell_type": "code",
      "metadata": {
        "id": "JfhwJvEjlZbN",
        "colab_type": "code",
        "colab": {
          "base_uri": "https://localhost:8080/",
          "height": 212
        },
        "outputId": "d77c116e-25e5-43ed-af6d-6d9bb8199bad"
      },
      "source": [
        "from sklearn.linear_model import LogisticRegression\n",
        "\n",
        "LR = LogisticRegression()\n",
        "training_start = time.perf_counter()\n",
        "LR.fit(X_train, y_train)\n",
        "training_end = time.perf_counter()\n",
        "prediction_start = time.perf_counter()\n",
        "preds = LR.predict(X_test)\n",
        "prediction_end = time.perf_counter()\n",
        "acc_LR = (preds == y_test).sum().astype(float) / len(preds)*100\n",
        "LR_train_time = training_end-training_start\n",
        "LR_prediction_time = prediction_end-prediction_start\n",
        "print(\"Scikit-Learn's LR Classifier's prediction accuracy is: %3.2f\" % (acc_LR))\n",
        "print(\"Time consumed for training: %4.3f seconds\" % (LR_train_time))\n",
        "print(\"Time consumed for prediction: %6.5f seconds\" % (LR_prediction_time))\n"
      ],
      "execution_count": 86,
      "outputs": [
        {
          "output_type": "stream",
          "text": [
            "Scikit-Learn's LR Classifier's prediction accuracy is: 64.07\n",
            "Time consumed for training: 1.429 seconds\n",
            "Time consumed for prediction: 0.00167 seconds\n"
          ],
          "name": "stdout"
        },
        {
          "output_type": "stream",
          "text": [
            "/usr/local/lib/python3.6/dist-packages/sklearn/linear_model/_logistic.py:940: ConvergenceWarning: lbfgs failed to converge (status=1):\n",
            "STOP: TOTAL NO. of ITERATIONS REACHED LIMIT.\n",
            "\n",
            "Increase the number of iterations (max_iter) or scale the data as shown in:\n",
            "    https://scikit-learn.org/stable/modules/preprocessing.html\n",
            "Please also refer to the documentation for alternative solver options:\n",
            "    https://scikit-learn.org/stable/modules/linear_model.html#logistic-regression\n",
            "  extra_warning_msg=_LOGISTIC_SOLVER_CONVERGENCE_MSG)\n"
          ],
          "name": "stderr"
        }
      ]
    },
    {
      "cell_type": "code",
      "metadata": {
        "id": "KqLmEocTglpF",
        "colab_type": "code",
        "colab": {
          "base_uri": "https://localhost:8080/",
          "height": 287
        },
        "outputId": "2b5e8a49-9a4b-4e0d-fe64-1c229306cea4"
      },
      "source": [
        "results = pd.DataFrame({\n",
        "    'Model': ['KNN', 'Naive Bayes', \n",
        "              'XGBoost', 'Random Forest', 'SVC', 'LR', 'gbk'],\n",
        "    'Score': [acc_knn, acc_gnb, acc_xgb, acc_rfc, acc_svc, acc_LR, acc_gbk],\n",
        "    'Runtime Training': [knn_train_time, gnb_train_time, xgb_train_time, rfc_train_time, \n",
        "                         svc_train_time, LR_train_time, gbk_train_time],\n",
        "    'Runtime Prediction': [knn_prediction_time, gnb_prediction_time, xgb_prediction_time, rfc_prediction_time,\n",
        "                          svc_prediction_time, LR_prediction_time, gbk_prediction_time]})\n",
        "result_df = results.sort_values(by='Score', ascending=False)\n",
        "result_df = result_df.set_index('Model')\n",
        "result_df"
      ],
      "execution_count": 87,
      "outputs": [
        {
          "output_type": "execute_result",
          "data": {
            "text/html": [
              "<div>\n",
              "<style scoped>\n",
              "    .dataframe tbody tr th:only-of-type {\n",
              "        vertical-align: middle;\n",
              "    }\n",
              "\n",
              "    .dataframe tbody tr th {\n",
              "        vertical-align: top;\n",
              "    }\n",
              "\n",
              "    .dataframe thead th {\n",
              "        text-align: right;\n",
              "    }\n",
              "</style>\n",
              "<table border=\"1\" class=\"dataframe\">\n",
              "  <thead>\n",
              "    <tr style=\"text-align: right;\">\n",
              "      <th></th>\n",
              "      <th>Score</th>\n",
              "      <th>Runtime Training</th>\n",
              "      <th>Runtime Prediction</th>\n",
              "    </tr>\n",
              "    <tr>\n",
              "      <th>Model</th>\n",
              "      <th></th>\n",
              "      <th></th>\n",
              "      <th></th>\n",
              "    </tr>\n",
              "  </thead>\n",
              "  <tbody>\n",
              "    <tr>\n",
              "      <th>Random Forest</th>\n",
              "      <td>71.626263</td>\n",
              "      <td>0.243491</td>\n",
              "      <td>0.025840</td>\n",
              "    </tr>\n",
              "    <tr>\n",
              "      <th>gbk</th>\n",
              "      <td>67.737374</td>\n",
              "      <td>15.129568</td>\n",
              "      <td>0.089957</td>\n",
              "    </tr>\n",
              "    <tr>\n",
              "      <th>Naive Bayes</th>\n",
              "      <td>67.636364</td>\n",
              "      <td>0.009942</td>\n",
              "      <td>0.006914</td>\n",
              "    </tr>\n",
              "    <tr>\n",
              "      <th>XGBoost</th>\n",
              "      <td>67.606061</td>\n",
              "      <td>4.430009</td>\n",
              "      <td>0.156902</td>\n",
              "    </tr>\n",
              "    <tr>\n",
              "      <th>SVC</th>\n",
              "      <td>66.757576</td>\n",
              "      <td>16.491573</td>\n",
              "      <td>5.033278</td>\n",
              "    </tr>\n",
              "    <tr>\n",
              "      <th>KNN</th>\n",
              "      <td>64.626263</td>\n",
              "      <td>0.058797</td>\n",
              "      <td>0.993220</td>\n",
              "    </tr>\n",
              "    <tr>\n",
              "      <th>LR</th>\n",
              "      <td>64.070707</td>\n",
              "      <td>1.428778</td>\n",
              "      <td>0.001672</td>\n",
              "    </tr>\n",
              "  </tbody>\n",
              "</table>\n",
              "</div>"
            ],
            "text/plain": [
              "                   Score  Runtime Training  Runtime Prediction\n",
              "Model                                                         \n",
              "Random Forest  71.626263          0.243491            0.025840\n",
              "gbk            67.737374         15.129568            0.089957\n",
              "Naive Bayes    67.636364          0.009942            0.006914\n",
              "XGBoost        67.606061          4.430009            0.156902\n",
              "SVC            66.757576         16.491573            5.033278\n",
              "KNN            64.626263          0.058797            0.993220\n",
              "LR             64.070707          1.428778            0.001672"
            ]
          },
          "metadata": {
            "tags": []
          },
          "execution_count": 87
        }
      ]
    },
    {
      "cell_type": "code",
      "metadata": {
        "id": "SoC7dnI0gsul",
        "colab_type": "code",
        "colab": {
          "base_uri": "https://localhost:8080/",
          "height": 87
        },
        "outputId": "835ea94b-aba9-41d6-b40c-c3f9c38bf86a"
      },
      "source": [
        "\n",
        "rfc_cv = RandomForestClassifier(n_estimators=100)\n",
        "scores = cross_val_score(rfc_cv, X_train, y_train, cv=10, scoring = \"accuracy\")\n",
        "print(\"Scores:\", scores)\n",
        "print(\"Mean:\", scores.mean())\n",
        "print(\"Standard Deviation:\", scores.std())"
      ],
      "execution_count": 88,
      "outputs": [
        {
          "output_type": "stream",
          "text": [
            "Scores: [0.70746269 0.71044776 0.72089552 0.70696517 0.72636816 0.71044776\n",
            " 0.74328358 0.71343284 0.71926332 0.71926332]\n",
            "Mean: 0.7177830112751327\n",
            "Standard Deviation: 0.010431321668654145\n"
          ],
          "name": "stdout"
        }
      ]
    },
    {
      "cell_type": "code",
      "metadata": {
        "id": "F9nvz9nSi4Rd",
        "colab_type": "code",
        "colab": {
          "base_uri": "https://localhost:8080/",
          "height": 87
        },
        "outputId": "84ca9859-4892-4ade-ceca-4cd24ee3e48b"
      },
      "source": [
        "xgb_cv = XGBClassifier(n_estimators=100)\n",
        "scores = cross_val_score(xgb_cv, X_train, y_train, cv=10, scoring = \"accuracy\")\n",
        "print(\"Scores:\", scores)\n",
        "print(\"Mean:\", scores.mean())\n",
        "print(\"Standard Deviation:\", scores.std())"
      ],
      "execution_count": 89,
      "outputs": [
        {
          "output_type": "stream",
          "text": [
            "Scores: [0.6721393  0.67064677 0.67512438 0.68358209 0.68258706 0.67363184\n",
            " 0.68507463 0.67960199 0.66301643 0.67197611]\n",
            "Mean: 0.6757380593300298\n",
            "Standard Deviation: 0.00655908867986275\n"
          ],
          "name": "stdout"
        }
      ]
    },
    {
      "cell_type": "code",
      "metadata": {
        "id": "O2W1kEMGzai3",
        "colab_type": "code",
        "colab": {}
      },
      "source": [
        ""
      ],
      "execution_count": 89,
      "outputs": []
    },
    {
      "cell_type": "code",
      "metadata": {
        "id": "HQ8iEbMQi-TV",
        "colab_type": "code",
        "colab": {
          "base_uri": "https://localhost:8080/",
          "height": 497
        },
        "outputId": "5b8dc0cd-2053-4db0-cfcc-d0465c41184e"
      },
      "source": [
        "importances = pd.DataFrame({\n",
        "    'Feature': dTreated.drop('Satisfaction', axis=1).columns,\n",
        "    'Importance': rfc.feature_importances_\n",
        "})\n",
        "importances = importances.sort_values(by='Importance', ascending=False)\n",
        "importances = importances.set_index('Feature')\n",
        "importances"
      ],
      "execution_count": 98,
      "outputs": [
        {
          "output_type": "execute_result",
          "data": {
            "text/html": [
              "<div>\n",
              "<style scoped>\n",
              "    .dataframe tbody tr th:only-of-type {\n",
              "        vertical-align: middle;\n",
              "    }\n",
              "\n",
              "    .dataframe tbody tr th {\n",
              "        vertical-align: top;\n",
              "    }\n",
              "\n",
              "    .dataframe thead th {\n",
              "        text-align: right;\n",
              "    }\n",
              "</style>\n",
              "<table border=\"1\" class=\"dataframe\">\n",
              "  <thead>\n",
              "    <tr style=\"text-align: right;\">\n",
              "      <th></th>\n",
              "      <th>Importance</th>\n",
              "    </tr>\n",
              "    <tr>\n",
              "      <th>Feature</th>\n",
              "      <th></th>\n",
              "    </tr>\n",
              "  </thead>\n",
              "  <tbody>\n",
              "    <tr>\n",
              "      <th>Effectiveness</th>\n",
              "      <td>0.255173</td>\n",
              "    </tr>\n",
              "    <tr>\n",
              "      <th>UsefulCount</th>\n",
              "      <td>0.163285</td>\n",
              "    </tr>\n",
              "    <tr>\n",
              "      <th>EaseofUse</th>\n",
              "      <td>0.126624</td>\n",
              "    </tr>\n",
              "    <tr>\n",
              "      <th>Sentiment_Rating</th>\n",
              "      <td>0.110716</td>\n",
              "    </tr>\n",
              "    <tr>\n",
              "      <th>Condition_impact_code</th>\n",
              "      <td>0.062731</td>\n",
              "    </tr>\n",
              "    <tr>\n",
              "      <th>Condition_deviation_code</th>\n",
              "      <td>0.052421</td>\n",
              "    </tr>\n",
              "    <tr>\n",
              "      <th>Condition_prevalence_code</th>\n",
              "      <td>0.044643</td>\n",
              "    </tr>\n",
              "    <tr>\n",
              "      <th>Sides_impact_code</th>\n",
              "      <td>0.039105</td>\n",
              "    </tr>\n",
              "    <tr>\n",
              "      <th>DrugId</th>\n",
              "      <td>0.037767</td>\n",
              "    </tr>\n",
              "    <tr>\n",
              "      <th>Sides_deviation_code</th>\n",
              "      <td>0.034125</td>\n",
              "    </tr>\n",
              "    <tr>\n",
              "      <th>Sides_prevalence_code</th>\n",
              "      <td>0.030907</td>\n",
              "    </tr>\n",
              "    <tr>\n",
              "      <th>Sex_prevalence_code</th>\n",
              "      <td>0.014382</td>\n",
              "    </tr>\n",
              "    <tr>\n",
              "      <th>Sex_impact_code</th>\n",
              "      <td>0.014261</td>\n",
              "    </tr>\n",
              "    <tr>\n",
              "      <th>Sex_deviation_code</th>\n",
              "      <td>0.013860</td>\n",
              "    </tr>\n",
              "  </tbody>\n",
              "</table>\n",
              "</div>"
            ],
            "text/plain": [
              "                           Importance\n",
              "Feature                              \n",
              "Effectiveness                0.255173\n",
              "UsefulCount                  0.163285\n",
              "EaseofUse                    0.126624\n",
              "Sentiment_Rating             0.110716\n",
              "Condition_impact_code        0.062731\n",
              "Condition_deviation_code     0.052421\n",
              "Condition_prevalence_code    0.044643\n",
              "Sides_impact_code            0.039105\n",
              "DrugId                       0.037767\n",
              "Sides_deviation_code         0.034125\n",
              "Sides_prevalence_code        0.030907\n",
              "Sex_prevalence_code          0.014382\n",
              "Sex_impact_code              0.014261\n",
              "Sex_deviation_code           0.013860"
            ]
          },
          "metadata": {
            "tags": []
          },
          "execution_count": 98
        }
      ]
    },
    {
      "cell_type": "code",
      "metadata": {
        "id": "j-Zg9I36jCaG",
        "colab_type": "code",
        "colab": {
          "base_uri": "https://localhost:8080/",
          "height": 748
        },
        "outputId": "ee34ae96-96b4-4c89-8076-43357b72b04a"
      },
      "source": [
        "importances.plot.bar()"
      ],
      "execution_count": 99,
      "outputs": [
        {
          "output_type": "execute_result",
          "data": {
            "text/plain": [
              "<matplotlib.axes._subplots.AxesSubplot at 0x7f270ad35208>"
            ]
          },
          "metadata": {
            "tags": []
          },
          "execution_count": 99
        },
        {
          "output_type": "display_data",
          "data": {
            "image/png": "[encoded data removed]",
            "text/plain": [
              "<Figure size 720x648 with 1 Axes>"
            ]
          },
          "metadata": {
            "tags": []
          }
        }
      ]
    },
    {
      "cell_type": "code",
      "metadata": {
        "id": "1mT9JX2IjznF",
        "colab_type": "code",
        "colab": {
          "base_uri": "https://localhost:8080/",
          "height": 143
        },
        "outputId": "5d8ad267-5c4f-4d19-c30c-3445ef9ccc4c"
      },
      "source": [
        "#xgb_cv = XGBClassifier(n_estimators=100)\n",
        "score = cross_val_score(rfc_cv, X_train, y_train, cv=10, scoring = \"accuracy\")\n",
        "print(score)\n",
        "\n",
        "from sklearn.model_selection import KFold\n",
        "\n",
        "# Defining Features and splitting the data as train and test set\n",
        "features = sdss_df_fe[['EaseofUse', 'Effectiveness', 'UsefulCount', 'Sentiment_Rating']]\n",
        "target = sdss_df_fe['Satisfaction']\n",
        "target.isnull().sum().sum()\n",
        "features = features.fillna(features.mean())\n",
        "features.isnull().sum().sum()\n",
        "train_data, test_data, train_targets, test_targets = train_test_split(features, target, test_size = 0.3, shuffle=True, random_state = 42)\n",
        "print (\"The Train set size \", X_train.shape)\n",
        "print (\"The Test set size \", X_test.shape)\n",
        "num_folds=2\n",
        "random_state=42\n",
        "n_iter=50\n",
        "kf = KFold(n_splits=num_folds, random_state=random_state)"
      ],
      "execution_count": 100,
      "outputs": [
        {
          "output_type": "stream",
          "text": [
            "[0.7119403  0.71293532 0.71840796 0.69900498 0.72437811 0.71691542\n",
            " 0.74626866 0.70646766 0.71876556 0.71876556]\n",
            "The Train set size  (20098, 14)\n",
            "The Test set size  (9900, 14)\n"
          ],
          "name": "stdout"
        },
        {
          "output_type": "stream",
          "text": [
            "/usr/local/lib/python3.6/dist-packages/sklearn/model_selection/_split.py:296: FutureWarning: Setting a random_state has no effect since shuffle is False. This will raise an error in 0.24. You should leave random_state to its default (None), or set shuffle=True.\n",
            "  FutureWarning\n"
          ],
          "name": "stderr"
        }
      ]
    },
    {
      "cell_type": "code",
      "metadata": {
        "id": "5VbEAeT3y9gc",
        "colab_type": "code",
        "colab": {}
      },
      "source": [
        "X_train, X_test, y_train, y_test = train_test_split(dTreated.drop('Satisfaction', axis=1), dTreated['Satisfaction'],test_size=0.33)"
      ],
      "execution_count": 101,
      "outputs": []
    },
    {
      "cell_type": "code",
      "metadata": {
        "id": "k-dpS5R93GUS",
        "colab_type": "code",
        "colab": {
          "base_uri": "https://localhost:8080/",
          "height": 390
        },
        "outputId": "dcc75588-a67e-4db1-93a1-96573f852b95"
      },
      "source": [
        "from pprint import pprint\n",
        "# Look at parameters used by our current forest\n",
        "print('Parameters currently in use:\\n')\n",
        "pprint(rfc.get_params())"
      ],
      "execution_count": 104,
      "outputs": [
        {
          "output_type": "stream",
          "text": [
            "Parameters currently in use:\n",
            "\n",
            "{'bootstrap': True,\n",
            " 'ccp_alpha': 0.0,\n",
            " 'class_weight': None,\n",
            " 'criterion': 'gini',\n",
            " 'max_depth': None,\n",
            " 'max_features': 'auto',\n",
            " 'max_leaf_nodes': None,\n",
            " 'max_samples': None,\n",
            " 'min_impurity_decrease': 0.0,\n",
            " 'min_impurity_split': None,\n",
            " 'min_samples_leaf': 1,\n",
            " 'min_samples_split': 2,\n",
            " 'min_weight_fraction_leaf': 0.0,\n",
            " 'n_estimators': 10,\n",
            " 'n_jobs': None,\n",
            " 'oob_score': False,\n",
            " 'random_state': None,\n",
            " 'verbose': 0,\n",
            " 'warm_start': False}\n"
          ],
          "name": "stdout"
        }
      ]
    },
    {
      "cell_type": "code",
      "metadata": {
        "id": "rweiZoHr3GAl",
        "colab_type": "code",
        "colab": {
          "base_uri": "https://localhost:8080/",
          "height": 123
        },
        "outputId": "3da24dac-8350-4309-806d-c7d91733a338"
      },
      "source": [
        "from sklearn.model_selection import RandomizedSearchCV\n",
        "# Number of trees in random forest\n",
        "n_estimators = [int(x) for x in np.linspace(start = 200, stop = 2000, num = 10)]\n",
        "# Number of features to consider at every split\n",
        "max_features = ['auto', 'sqrt']\n",
        "# Maximum number of levels in tree\n",
        "max_depth = [int(x) for x in np.linspace(10, 110, num = 11)]\n",
        "max_depth.append(None)\n",
        "# Minimum number of samples required to split a node\n",
        "min_samples_split = [2, 5, 10]\n",
        "# Minimum number of samples required at each leaf node\n",
        "min_samples_leaf = [1, 2, 4]\n",
        "# Method of selecting samples for training each tree\n",
        "bootstrap = [True, False]\n",
        "# Create the random grid\n",
        "random_grid = {'n_estimators': n_estimators,\n",
        "               'max_features': max_features,\n",
        "               'max_depth': max_depth,\n",
        "               'min_samples_split': min_samples_split,\n",
        "               'min_samples_leaf': min_samples_leaf,\n",
        "               'bootstrap': bootstrap}\n",
        "pprint(random_grid)"
      ],
      "execution_count": 105,
      "outputs": [
        {
          "output_type": "stream",
          "text": [
            "{'bootstrap': [True, False],\n",
            " 'max_depth': [10, 20, 30, 40, 50, 60, 70, 80, 90, 100, 110, None],\n",
            " 'max_features': ['auto', 'sqrt'],\n",
            " 'min_samples_leaf': [1, 2, 4],\n",
            " 'min_samples_split': [2, 5, 10],\n",
            " 'n_estimators': [200, 400, 600, 800, 1000, 1200, 1400, 1600, 1800, 2000]}\n"
          ],
          "name": "stdout"
        }
      ]
    },
    {
      "cell_type": "code",
      "metadata": {
        "id": "nyPa2kmf3FpH",
        "colab_type": "code",
        "colab": {
          "base_uri": "https://localhost:8080/",
          "height": 658
        },
        "outputId": "481b37e0-2dd9-4c25-bfbb-8139a7ae7ee2"
      },
      "source": [
        "# Use the random grid to search for best hyperparameters\n",
        "\n",
        "# Random search of parameters, using 3 fold cross validation, \n",
        "# search across 100 different combinations, and use all available cores\n",
        "rf_random = RandomizedSearchCV(estimator = rfc, param_distributions = random_grid, n_iter = 100, cv = 3, verbose=2, random_state=42, n_jobs = -1)\n",
        "# Fit the random search model\n",
        "rf_random.fit(X_train, y_train)"
      ],
      "execution_count": 106,
      "outputs": [
        {
          "output_type": "stream",
          "text": [
            "Fitting 3 folds for each of 100 candidates, totalling 300 fits\n"
          ],
          "name": "stdout"
        },
        {
          "output_type": "stream",
          "text": [
            "[Parallel(n_jobs=-1)]: Using backend LokyBackend with 2 concurrent workers.\n",
            "/usr/local/lib/python3.6/dist-packages/joblib/externals/loky/process_executor.py:691: UserWarning: A worker stopped while some jobs were given to the executor. This can be caused by a too short worker timeout or by a memory leak.\n",
            "  \"timeout or by a memory leak.\", UserWarning\n",
            "[Parallel(n_jobs=-1)]: Done  37 tasks      | elapsed:  9.8min\n",
            "[Parallel(n_jobs=-1)]: Done 158 tasks      | elapsed: 43.0min\n",
            "[Parallel(n_jobs=-1)]: Done 300 out of 300 | elapsed: 77.6min finished\n"
          ],
          "name": "stderr"
        },
        {
          "output_type": "execute_result",
          "data": {
            "text/plain": [
              "RandomizedSearchCV(cv=3, error_score=nan,\n",
              "                   estimator=RandomForestClassifier(bootstrap=True,\n",
              "                                                    ccp_alpha=0.0,\n",
              "                                                    class_weight=None,\n",
              "                                                    criterion='gini',\n",
              "                                                    max_depth=None,\n",
              "                                                    max_features='auto',\n",
              "                                                    max_leaf_nodes=None,\n",
              "                                                    max_samples=None,\n",
              "                                                    min_impurity_decrease=0.0,\n",
              "                                                    min_impurity_split=None,\n",
              "                                                    min_samples_leaf=1,\n",
              "                                                    min_samples_split=2,\n",
              "                                                    min_weight_fraction_leaf=0.0,\n",
              "                                                    n_estimators=10,\n",
              "                                                    n_jobs=...\n",
              "                   param_distributions={'bootstrap': [True, False],\n",
              "                                        'max_depth': [10, 20, 30, 40, 50, 60,\n",
              "                                                      70, 80, 90, 100, 110,\n",
              "                                                      None],\n",
              "                                        'max_features': ['auto', 'sqrt'],\n",
              "                                        'min_samples_leaf': [1, 2, 4],\n",
              "                                        'min_samples_split': [2, 5, 10],\n",
              "                                        'n_estimators': [200, 400, 600, 800,\n",
              "                                                         1000, 1200, 1400, 1600,\n",
              "                                                         1800, 2000]},\n",
              "                   pre_dispatch='2*n_jobs', random_state=42, refit=True,\n",
              "                   return_train_score=False, scoring=None, verbose=2)"
            ]
          },
          "metadata": {
            "tags": []
          },
          "execution_count": 106
        }
      ]
    },
    {
      "cell_type": "code",
      "metadata": {
        "id": "fhnXhSXO3ya2",
        "colab_type": "code",
        "colab": {
          "base_uri": "https://localhost:8080/",
          "height": 141
        },
        "outputId": "019eb36f-730a-450d-b7d2-3c7759bfde86"
      },
      "source": [
        "rf_random.best_params_,rf_random.best_score_\n"
      ],
      "execution_count": null,
      "outputs": [
        {
          "output_type": "execute_result",
          "data": {
            "text/plain": [
              "({'bootstrap': True,\n",
              "  'max_depth': 10,\n",
              "  'max_features': 'sqrt',\n",
              "  'min_samples_leaf': 1,\n",
              "  'min_samples_split': 5,\n",
              "  'n_estimators': 2000},\n",
              " 0.6654391499733753)"
            ]
          },
          "metadata": {
            "tags": []
          },
          "execution_count": 247
        }
      ]
    },
    {
      "cell_type": "code",
      "metadata": {
        "id": "FMQkcDnt3yJQ",
        "colab_type": "code",
        "colab": {}
      },
      "source": [
        "y_pred = rf_random.predict(X_test)"
      ],
      "execution_count": 107,
      "outputs": []
    },
    {
      "cell_type": "code",
      "metadata": {
        "id": "AWfDxQCjz5EV",
        "colab_type": "code",
        "colab": {
          "base_uri": "https://localhost:8080/",
          "height": 34
        },
        "outputId": "d9d45b1a-f1c4-4bd0-944d-64b0f4577d3e"
      },
      "source": [
        "RForest = RandomForestClassifier(bootstrap=True, max_depth=10, max_features='sqrt', min_samples_leaf=1, min_samples_split=5, n_estimators=2000)\n",
        "\n",
        "RForest.fit(X_train, y_train)\n",
        "preds = RForest.predict(X_test)\n",
        "\n",
        "accuracy = (preds == y_test).sum().astype(float) / len(preds)*100\n",
        "\n",
        "print(\"RandomForest's prediction accuracy WITH optimal hyperparameters is: %3.2f\" % (accuracy))"
      ],
      "execution_count": 108,
      "outputs": [
        {
          "output_type": "stream",
          "text": [
            "RandomForest's prediction accuracy WITH optimal hyperparameters is: 68.22\n"
          ],
          "name": "stdout"
        }
      ]
    },
    {
      "cell_type": "code",
      "metadata": {
        "id": "_kcCV_RW1T64",
        "colab_type": "code",
        "colab": {
          "base_uri": "https://localhost:8080/",
          "height": 87
        },
        "outputId": "53871f70-ca7e-4a2a-dafa-64b3cf8b2d24"
      },
      "source": [
        "#xgb_cv = RandomForestClassifier(n_estimators=100)\n",
        "scores = cross_val_score(RForest, X_train, y_train, cv=10, scoring = \"accuracy\")\n",
        "print(\"Scores:\", scores)\n",
        "print(\"Mean:\", scores.mean())\n",
        "print(\"Standard Deviation:\", scores.std())"
      ],
      "execution_count": 111,
      "outputs": [
        {
          "output_type": "stream",
          "text": [
            "Scores: [0.68756219 0.67562189 0.6920398  0.69054726 0.69452736 0.6761194\n",
            " 0.69104478 0.70099502 0.67546043 0.69039323]\n",
            "Mean: 0.6874311369979371\n",
            "Standard Deviation: 0.008353721147411177\n"
          ],
          "name": "stdout"
        }
      ]
    },
    {
      "cell_type": "code",
      "metadata": {
        "id": "9nVcqVzu1bLt",
        "colab_type": "code",
        "colab": {
          "base_uri": "https://localhost:8080/",
          "height": 34
        },
        "outputId": "7e2645a5-0b3a-43f0-ecb5-7191fdc778b6"
      },
      "source": [
        "unique, counts = np.unique(dTreated['Satisfaction'], return_counts=True)\n",
        "dict(zip(unique, counts))"
      ],
      "execution_count": 112,
      "outputs": [
        {
          "output_type": "execute_result",
          "data": {
            "text/plain": [
              "{0: 8246, 1: 3022, 2: 4226, 3: 4917, 4: 9587}"
            ]
          },
          "metadata": {
            "tags": []
          },
          "execution_count": 112
        }
      ]
    },
    {
      "cell_type": "code",
      "metadata": {
        "id": "ZyqhW9TY1dO5",
        "colab_type": "code",
        "colab": {
          "base_uri": "https://localhost:8080/",
          "height": 105
        },
        "outputId": "2eb3b372-f39f-43e2-a8e5-81d0994d022a"
      },
      "source": [
        "predictions = cross_val_predict(RForest, sdss, dTreated['Satisfaction'], cv=3)\n",
        "confusion_matrix(dTreated['Satisfaction'], predictions)"
      ],
      "execution_count": 113,
      "outputs": [
        {
          "output_type": "execute_result",
          "data": {
            "text/plain": [
              "array([[7094,   41,  416,  200,  495],\n",
              "       [1464,  233,  704,  294,  327],\n",
              "       [ 868,   45, 1761,  895,  657],\n",
              "       [ 342,    5,  482, 2843, 1245],\n",
              "       [ 107,    3,  116,  959, 8402]])"
            ]
          },
          "metadata": {
            "tags": []
          },
          "execution_count": 113
        }
      ]
    },
    {
      "cell_type": "code",
      "metadata": {
        "id": "bho7ptZu1dvk",
        "colab_type": "code",
        "colab": {
          "base_uri": "https://localhost:8080/",
          "height": 52
        },
        "outputId": "869547fe-b854-479f-bba0-b0acd3134351"
      },
      "source": [
        "print(\"Precision:\", precision_score(dTreated['Satisfaction'], predictions, average='micro'))\n",
        "print(\"Recall:\",recall_score(dTreated['Satisfaction'], predictions, average='micro'))"
      ],
      "execution_count": 114,
      "outputs": [
        {
          "output_type": "stream",
          "text": [
            "Precision: 0.6778118541236082\n",
            "Recall: 0.6778118541236082\n"
          ],
          "name": "stdout"
        }
      ]
    },
    {
      "cell_type": "code",
      "metadata": {
        "id": "rBIOONtr1uYZ",
        "colab_type": "code",
        "colab": {
          "base_uri": "https://localhost:8080/",
          "height": 34
        },
        "outputId": "6295b227-0c50-4a9e-98a9-ffb0afc9785d"
      },
      "source": [
        "print(\"F1-Score:\", f1_score(dTreated['Satisfaction'], predictions, average='micro'))"
      ],
      "execution_count": 115,
      "outputs": [
        {
          "output_type": "stream",
          "text": [
            "F1-Score: 0.6778118541236082\n"
          ],
          "name": "stdout"
        }
      ]
    },
    {
      "cell_type": "code",
      "metadata": {
        "id": "0IwT_rBU2eCm",
        "colab_type": "code",
        "colab": {
          "base_uri": "https://localhost:8080/",
          "height": 265
        },
        "outputId": "91692588-4a60-496f-c6a1-a607c2e6e91a"
      },
      "source": [
        "# Classification report\n",
        "import sklearn.metrics as metrics\n",
        "print('\\t\\t\\t\\tCLASSIFICATIION METRICS\\n')\n",
        "print(metrics.classification_report(dTreated['Satisfaction'], predictions))"
      ],
      "execution_count": 117,
      "outputs": [
        {
          "output_type": "stream",
          "text": [
            "\t\t\t\tCLASSIFICATIION METRICS\n",
            "\n",
            "              precision    recall  f1-score   support\n",
            "\n",
            "           0       0.72      0.86      0.78      8246\n",
            "           1       0.71      0.08      0.14      3022\n",
            "           2       0.51      0.42      0.46      4226\n",
            "           3       0.55      0.58      0.56      4917\n",
            "           4       0.76      0.88      0.81      9587\n",
            "\n",
            "    accuracy                           0.68     29998\n",
            "   macro avg       0.65      0.56      0.55     29998\n",
            "weighted avg       0.67      0.68      0.65     29998\n",
            "\n"
          ],
          "name": "stdout"
        }
      ]
    },
    {
      "cell_type": "code",
      "metadata": {
        "id": "bHxNF7OWW1Wb",
        "colab_type": "code",
        "colab": {
          "base_uri": "https://localhost:8080/",
          "height": 34
        },
        "outputId": "e8ac05c8-72ed-4d51-de5c-fc683d1fe61e"
      },
      "source": [
        "\n",
        "from sklearn.preprocessing import LabelBinarizer\n",
        "lb = LabelBinarizer()\n",
        "lb.fit(y_test)\n",
        "y_test1 = lb.transform(y_test)\n",
        "y_pred1= lb.transform(y_pred)\n",
        "roc_auc_score(y_test1, y_pred1, average=\"macro\")"
      ],
      "execution_count": 167,
      "outputs": [
        {
          "output_type": "execute_result",
          "data": {
            "text/plain": [
              "0.7928475810556648"
            ]
          },
          "metadata": {
            "tags": []
          },
          "execution_count": 167
        }
      ]
    },
    {
      "cell_type": "code",
      "metadata": {
        "id": "EShbbIRFdy_d",
        "colab_type": "code",
        "colab": {}
      },
      "source": [
        "from itertools import cycle\n",
        "from sklearn.metrics import roc_curve, auc\n",
        "from sklearn.preprocessing import label_binarize\n",
        "from scipy import interp\n",
        "from sklearn.metrics import roc_auc_score\n",
        "\n",
        "\n",
        "statis=dTreated['Satisfaction']\n",
        "y = label_binarize(statis, classes=[0, 1, 2, 3, 4])\n",
        "n_classes = y.shape[1]\n",
        "\n",
        "\n",
        "# Compute ROC curve and ROC area for each class\n",
        "fpr = dict()\n",
        "tpr = dict()\n",
        "roc_auc = dict()\n",
        "for i in range(n_classes):\n",
        "    fpr[i], tpr[i], _ = roc_curve(y_test1[:, i], y_pred1[:, i])\n",
        "    roc_auc[i] = auc(fpr[i], tpr[i])\n",
        "\n",
        "# Compute micro-average ROC curve and ROC area\n",
        "fpr[\"micro\"], tpr[\"micro\"], _ = roc_curve(y_test1.ravel(), y_pred1.ravel())\n",
        "roc_auc[\"micro\"] = auc(fpr[\"micro\"], tpr[\"micro\"])\n",
        "\n",
        "\n"
      ],
      "execution_count": 168,
      "outputs": []
    },
    {
      "cell_type": "code",
      "metadata": {
        "id": "nhpglilToo5S",
        "colab_type": "code",
        "colab": {
          "base_uri": "https://localhost:8080/",
          "height": 577
        },
        "outputId": "5d626482-a047-4f29-dedb-070e84c1249b"
      },
      "source": [
        "plt.figure()\n",
        "lw = 2\n",
        "plt.plot(fpr[2], tpr[2], color='darkorange',\n",
        "         lw=lw, label='ROC curve (area = %0.2f)' % roc_auc[2])\n",
        "plt.plot([0, 1], [0, 1], color='navy', lw=lw, linestyle='--')\n",
        "plt.xlim([0.0, 1.0])\n",
        "plt.ylim([0.0, 1.05])\n",
        "plt.xlabel('False Positive Rate')\n",
        "plt.ylabel('True Positive Rate')\n",
        "plt.title('Receiver operating characteristic example')\n",
        "plt.legend(loc=\"lower right\")\n",
        "plt.show()"
      ],
      "execution_count": 169,
      "outputs": [
        {
          "output_type": "display_data",
          "data": {
            "image/png": "[encoded data removed]",
            "text/plain": [
              "<Figure size 720x648 with 1 Axes>"
            ]
          },
          "metadata": {
            "tags": []
          }
        }
      ]
    },
    {
      "cell_type": "code",
      "metadata": {
        "id": "zEnNBzygpotH",
        "colab_type": "code",
        "colab": {
          "base_uri": "https://localhost:8080/",
          "height": 577
        },
        "outputId": "f3081f74-2160-4f0e-fcc1-425b51386174"
      },
      "source": [
        "from scipy import interp\n",
        "from itertools import cycle\n",
        "\n",
        "# First aggregate all false positive rates\n",
        "all_fpr = np.unique(np.concatenate([fpr[i] for i in range(n_classes)]))\n",
        "\n",
        "# Then interpolate all ROC curves at this points\n",
        "mean_tpr = np.zeros_like(all_fpr)\n",
        "for i in range(n_classes):\n",
        "    mean_tpr += interp(all_fpr, fpr[i], tpr[i])\n",
        "\n",
        "# Finally average it and compute AUC\n",
        "mean_tpr /= n_classes\n",
        "\n",
        "fpr[\"macro\"] = all_fpr\n",
        "tpr[\"macro\"] = mean_tpr\n",
        "roc_auc[\"macro\"] = auc(fpr[\"macro\"], tpr[\"macro\"])\n",
        "\n",
        "# Plot all ROC curves\n",
        "plt.figure()\n",
        "plt.plot(fpr[\"micro\"], tpr[\"micro\"],\n",
        "         label='micro-average ROC curve (area = {0:0.2f})'\n",
        "               ''.format(roc_auc[\"micro\"]),\n",
        "         color='deeppink', linestyle=':', linewidth=4)\n",
        "\n",
        "plt.plot(fpr[\"macro\"], tpr[\"macro\"],\n",
        "         label='macro-average ROC curve (area = {0:0.2f})'\n",
        "               ''.format(roc_auc[\"macro\"]),\n",
        "         color='navy', linestyle=':', linewidth=4)\n",
        "\n",
        "colors = cycle(['aqua', 'darkorange', 'cornflowerblue'])\n",
        "for i, color in zip(range(n_classes), colors):\n",
        "    plt.plot(fpr[i], tpr[i], color=color, lw=lw,\n",
        "             label='ROC curve of class {0} (area = {1:0.2f})'\n",
        "             ''.format(i, roc_auc[i]))\n",
        "\n",
        "plt.plot([0, 1], [0, 1], 'k--', lw=lw)\n",
        "plt.xlim([0.0, 1.0])\n",
        "plt.ylim([0.0, 1.05])\n",
        "plt.xlabel('False Positive Rate')\n",
        "plt.ylabel('True Positive Rate')\n",
        "plt.title('Some extension of Receiver operating characteristic to multi-class')\n",
        "plt.legend(loc=\"lower right\")\n",
        "plt.show()"
      ],
      "execution_count": 170,
      "outputs": [
        {
          "output_type": "display_data",
          "data": {
            "image/png": "[encoded data removed]",
            "text/plain": [
              "<Figure size 720x648 with 1 Axes>"
            ]
          },
          "metadata": {
            "tags": []
          }
        }
      ]
    },
    {
      "cell_type": "code",
      "metadata": {
        "id": "oP9Tofo-sD7B",
        "colab_type": "code",
        "colab": {}
      },
      "source": [
        ""
      ],
      "execution_count": null,
      "outputs": []
    }
  ]
}